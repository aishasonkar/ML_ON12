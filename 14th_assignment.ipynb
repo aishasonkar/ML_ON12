{
  "nbformat": 4,
  "nbformat_minor": 0,
  "metadata": {
    "colab": {
      "name": "Untitled14.ipynb",
      "version": "0.3.2",
      "provenance": [],
      "collapsed_sections": [],
      "include_colab_link": true
    },
    "kernelspec": {
      "name": "python3",
      "display_name": "Python 3"
    }
  },
  "cells": [
    {
      "cell_type": "markdown",
      "metadata": {
        "id": "view-in-github",
        "colab_type": "text"
      },
      "source": [
        "[View in Colaboratory](https://colab.research.google.com/github/aishasonkar/ML_ON12/blob/master/14th_assignment.ipynb)"
      ]
    },
    {
      "metadata": {
        "id": "wCGTItS0t5aj",
        "colab_type": "code",
        "colab": {}
      },
      "cell_type": "code",
      "source": [
        "import pandas as pd\n",
        "import numpy as np\n",
        "from sklearn.datasets import load_digits\n"
      ],
      "execution_count": 0,
      "outputs": []
    },
    {
      "metadata": {
        "id": "fDmG31g1t7H1",
        "colab_type": "code",
        "colab": {}
      },
      "cell_type": "code",
      "source": [
        "from sklearn.model_selection import train_test_split"
      ],
      "execution_count": 0,
      "outputs": []
    },
    {
      "metadata": {
        "id": "RPg06qiqeuQi",
        "colab_type": "text"
      },
      "cell_type": "markdown",
      "source": [
        "### import dataset ###"
      ]
    },
    {
      "metadata": {
        "id": "Hv5FIg5iuE0B",
        "colab_type": "code",
        "colab": {}
      },
      "cell_type": "code",
      "source": [
        "digit=load_digits()"
      ],
      "execution_count": 0,
      "outputs": []
    },
    {
      "metadata": {
        "id": "Syy1eSf3uLvq",
        "colab_type": "code",
        "colab": {}
      },
      "cell_type": "code",
      "source": [
        "X=digit.data"
      ],
      "execution_count": 0,
      "outputs": []
    },
    {
      "metadata": {
        "id": "8DsJqGzHyvIG",
        "colab_type": "code",
        "colab": {}
      },
      "cell_type": "code",
      "source": [
        "Y=digit.target"
      ],
      "execution_count": 0,
      "outputs": []
    },
    {
      "metadata": {
        "id": "tWsPxYIze35A",
        "colab_type": "text"
      },
      "cell_type": "markdown",
      "source": [
        "### Q.2- Split the dataset into training and testing sets using train_test_split() ###"
      ]
    },
    {
      "metadata": {
        "id": "3-hXtSUEy02R",
        "colab_type": "code",
        "colab": {}
      },
      "cell_type": "code",
      "source": [
        "\n",
        "from sklearn.cross_validation import train_test_split\n"
      ],
      "execution_count": 0,
      "outputs": []
    },
    {
      "metadata": {
        "id": "J1kFZV9vy9bh",
        "colab_type": "code",
        "colab": {}
      },
      "cell_type": "code",
      "source": [
        "X_train,X_test,Y_train,Y_test=train_test_split(X,Y,test_size=0.3,random_state=3)"
      ],
      "execution_count": 0,
      "outputs": []
    },
    {
      "metadata": {
        "id": "pylg5nYjfSY0",
        "colab_type": "code",
        "colab": {}
      },
      "cell_type": "code",
      "source": [
        ""
      ],
      "execution_count": 0,
      "outputs": []
    },
    {
      "metadata": {
        "id": "Pi1fvny9fT5e",
        "colab_type": "text"
      },
      "cell_type": "markdown",
      "source": [
        "### Q.3- Use SVM with kernels  ###\n",
        "\n",
        "> \n",
        "a. Linear\n",
        "b. Poly\n",
        "c. Gaussian\n",
        "d. Sigmoid\n",
        "For every kernel, print the following: \n",
        "a. Confusion Matrix\n",
        "b. Classification Report\n",
        "\n",
        "\n"
      ]
    },
    {
      "metadata": {
        "id": "f4vmA9kWznMq",
        "colab_type": "code",
        "colab": {}
      },
      "cell_type": "code",
      "source": [
        "from sklearn.svm import SVC"
      ],
      "execution_count": 0,
      "outputs": []
    },
    {
      "metadata": {
        "id": "atprshz-Fsdl",
        "colab_type": "code",
        "colab": {}
      },
      "cell_type": "code",
      "source": [
        "polynomial=SVC(kernel='poly',degree=7)"
      ],
      "execution_count": 0,
      "outputs": []
    },
    {
      "metadata": {
        "id": "MyOu8XgcV73o",
        "colab_type": "code",
        "colab": {
          "base_uri": "https://localhost:8080/",
          "height": 85
        },
        "outputId": "25dc24ec-c7e1-42e1-c9c3-5c7a14f542de"
      },
      "cell_type": "code",
      "source": [
        "polynomial.fit(X_train,Y_train)"
      ],
      "execution_count": 52,
      "outputs": [
        {
          "output_type": "execute_result",
          "data": {
            "text/plain": [
              "SVC(C=1.0, cache_size=200, class_weight=None, coef0=0.0,\n",
              "  decision_function_shape='ovr', degree=7, gamma='auto', kernel='poly',\n",
              "  max_iter=-1, probability=False, random_state=None, shrinking=True,\n",
              "  tol=0.001, verbose=False)"
            ]
          },
          "metadata": {
            "tags": []
          },
          "execution_count": 52
        }
      ]
    },
    {
      "metadata": {
        "id": "DzGSNhYWFIML",
        "colab_type": "text"
      },
      "cell_type": "markdown",
      "source": [
        ""
      ]
    },
    {
      "metadata": {
        "id": "hF-wyok5YChb",
        "colab_type": "code",
        "colab": {}
      },
      "cell_type": "code",
      "source": [
        "pred=polynomial.predict(X_test)"
      ],
      "execution_count": 0,
      "outputs": []
    },
    {
      "metadata": {
        "id": "a503IbJAYS92",
        "colab_type": "code",
        "colab": {}
      },
      "cell_type": "code",
      "source": [
        "from sklearn import metrics"
      ],
      "execution_count": 0,
      "outputs": []
    },
    {
      "metadata": {
        "id": "HOc4hDtjYZSC",
        "colab_type": "code",
        "colab": {
          "base_uri": "https://localhost:8080/",
          "height": 272
        },
        "outputId": "757fdb11-65ca-4456-aab4-faa1864150ba"
      },
      "cell_type": "code",
      "source": [
        "print(metrics.classification_report(Y_test,pred))"
      ],
      "execution_count": 55,
      "outputs": [
        {
          "output_type": "stream",
          "text": [
            "             precision    recall  f1-score   support\n",
            "\n",
            "          0       0.98      1.00      0.99        64\n",
            "          1       0.95      0.93      0.94        56\n",
            "          2       1.00      0.98      0.99        56\n",
            "          3       0.98      0.98      0.98        56\n",
            "          4       0.97      0.98      0.98        61\n",
            "          5       0.98      0.96      0.97        49\n",
            "          6       1.00      0.95      0.98        42\n",
            "          7       0.97      0.98      0.97        57\n",
            "          8       0.92      0.92      0.92        52\n",
            "          9       0.94      0.98      0.96        47\n",
            "\n",
            "avg / total       0.97      0.97      0.97       540\n",
            "\n"
          ],
          "name": "stdout"
        }
      ]
    },
    {
      "metadata": {
        "id": "Zt3A2TnqYrQ3",
        "colab_type": "code",
        "colab": {
          "base_uri": "https://localhost:8080/",
          "height": 187
        },
        "outputId": "ab8f63b0-cbd3-4c5d-e38e-ec4913cd1e18"
      },
      "cell_type": "code",
      "source": [
        "print(metrics.confusion_matrix(Y_test,pred))"
      ],
      "execution_count": 56,
      "outputs": [
        {
          "output_type": "stream",
          "text": [
            "[[64  0  0  0  0  0  0  0  0  0]\n",
            " [ 1 52  0  0  0  1  0  0  1  1]\n",
            " [ 0  0 55  0  0  0  0  1  0  0]\n",
            " [ 0  0  0 55  0  0  0  0  1  0]\n",
            " [ 0  0  0  0 60  0  0  1  0  0]\n",
            " [ 0  0  0  0  1 47  0  0  0  1]\n",
            " [ 0  1  0  0  0  0 40  0  1  0]\n",
            " [ 0  0  0  0  0  0  0 56  1  0]\n",
            " [ 0  2  0  1  0  0  0  0 48  1]\n",
            " [ 0  0  0  0  1  0  0  0  0 46]]\n"
          ],
          "name": "stdout"
        }
      ]
    },
    {
      "metadata": {
        "id": "mXYw2c_9YzcN",
        "colab_type": "code",
        "colab": {}
      },
      "cell_type": "code",
      "source": [
        "\n",
        "gaussian=SVC(kernel='rbf')"
      ],
      "execution_count": 0,
      "outputs": []
    },
    {
      "metadata": {
        "id": "QVZlKWzkZhwF",
        "colab_type": "code",
        "colab": {
          "base_uri": "https://localhost:8080/",
          "height": 85
        },
        "outputId": "e9e9bfb7-b2db-4b3c-80a9-f29243b51c74"
      },
      "cell_type": "code",
      "source": [
        "gaussian.fit(X_train,Y_train)"
      ],
      "execution_count": 35,
      "outputs": [
        {
          "output_type": "execute_result",
          "data": {
            "text/plain": [
              "SVC(C=1.0, cache_size=200, class_weight=None, coef0=0.0,\n",
              "  decision_function_shape='ovr', degree=3, gamma='auto', kernel='rbf',\n",
              "  max_iter=-1, probability=False, random_state=None, shrinking=True,\n",
              "  tol=0.001, verbose=False)"
            ]
          },
          "metadata": {
            "tags": []
          },
          "execution_count": 35
        }
      ]
    },
    {
      "metadata": {
        "id": "1noLXU24Z2rn",
        "colab_type": "code",
        "colab": {}
      },
      "cell_type": "code",
      "source": [
        "pred1=gaussian.predict(X_test)"
      ],
      "execution_count": 0,
      "outputs": []
    },
    {
      "metadata": {
        "id": "O3RP2rY3aWTd",
        "colab_type": "code",
        "colab": {
          "base_uri": "https://localhost:8080/",
          "height": 272
        },
        "outputId": "2e705a82-a762-4d82-d90b-457c3180ed20"
      },
      "cell_type": "code",
      "source": [
        "print(metrics.classification_report(Y_test,pred1))"
      ],
      "execution_count": 37,
      "outputs": [
        {
          "output_type": "stream",
          "text": [
            "             precision    recall  f1-score   support\n",
            "\n",
            "          0       1.00      0.39      0.56        64\n",
            "          1       1.00      0.30      0.47        56\n",
            "          2       1.00      0.29      0.44        56\n",
            "          3       1.00      0.36      0.53        56\n",
            "          4       1.00      0.18      0.31        61\n",
            "          5       0.13      1.00      0.24        49\n",
            "          6       1.00      0.69      0.82        42\n",
            "          7       1.00      0.30      0.46        57\n",
            "          8       1.00      0.02      0.04        52\n",
            "          9       1.00      0.77      0.87        47\n",
            "\n",
            "avg / total       0.92      0.41      0.46       540\n",
            "\n"
          ],
          "name": "stdout"
        }
      ]
    },
    {
      "metadata": {
        "id": "j2Vei50laivw",
        "colab_type": "code",
        "colab": {
          "base_uri": "https://localhost:8080/",
          "height": 187
        },
        "outputId": "24c82c49-e74d-4e42-f6e6-4b52c697dc31"
      },
      "cell_type": "code",
      "source": [
        "print(metrics.confusion_matrix(Y_test,pred))"
      ],
      "execution_count": 38,
      "outputs": [
        {
          "output_type": "stream",
          "text": [
            "[[64  0  0  0  0  0  0  0  0  0]\n",
            " [ 1 52  0  0  0  1  0  0  1  1]\n",
            " [ 0  0 55  0  0  0  0  1  0  0]\n",
            " [ 0  0  0 55  0  0  0  0  1  0]\n",
            " [ 0  0  0  0 60  0  0  1  0  0]\n",
            " [ 0  0  0  0  1 47  0  0  0  1]\n",
            " [ 0  1  0  0  0  0 40  0  1  0]\n",
            " [ 0  0  0  0  0  0  0 56  1  0]\n",
            " [ 0  2  0  1  0  0  0  0 48  1]\n",
            " [ 0  0  0  0  1  0  0  0  0 46]]\n"
          ],
          "name": "stdout"
        }
      ]
    },
    {
      "metadata": {
        "id": "QyoxGfx5a10Q",
        "colab_type": "code",
        "colab": {}
      },
      "cell_type": "code",
      "source": [
        ""
      ],
      "execution_count": 0,
      "outputs": []
    },
    {
      "metadata": {
        "id": "VuwcWVrvbujW",
        "colab_type": "code",
        "colab": {}
      },
      "cell_type": "code",
      "source": [
        "sigmo=SVC(kernel='sigmoid')"
      ],
      "execution_count": 0,
      "outputs": []
    },
    {
      "metadata": {
        "id": "HDvIx2spb1Im",
        "colab_type": "code",
        "colab": {
          "base_uri": "https://localhost:8080/",
          "height": 85
        },
        "outputId": "ced348fb-0a9a-405d-94d3-9bfdb27b933d"
      },
      "cell_type": "code",
      "source": [
        "sigmo.fit(X_train,Y_train)"
      ],
      "execution_count": 40,
      "outputs": [
        {
          "output_type": "execute_result",
          "data": {
            "text/plain": [
              "SVC(C=1.0, cache_size=200, class_weight=None, coef0=0.0,\n",
              "  decision_function_shape='ovr', degree=3, gamma='auto', kernel='sigmoid',\n",
              "  max_iter=-1, probability=False, random_state=None, shrinking=True,\n",
              "  tol=0.001, verbose=False)"
            ]
          },
          "metadata": {
            "tags": []
          },
          "execution_count": 40
        }
      ]
    },
    {
      "metadata": {
        "id": "aTRrpBDncL9O",
        "colab_type": "code",
        "colab": {}
      },
      "cell_type": "code",
      "source": [
        "pred2=gaussian.predict(X_test)"
      ],
      "execution_count": 0,
      "outputs": []
    },
    {
      "metadata": {
        "id": "v-abEqHDcU7o",
        "colab_type": "code",
        "colab": {
          "base_uri": "https://localhost:8080/",
          "height": 272
        },
        "outputId": "8d6ad43f-5613-483e-f88e-5462f57ff549"
      },
      "cell_type": "code",
      "source": [
        "print(metrics.classification_report(Y_test,pred2))"
      ],
      "execution_count": 42,
      "outputs": [
        {
          "output_type": "stream",
          "text": [
            "             precision    recall  f1-score   support\n",
            "\n",
            "          0       1.00      0.39      0.56        64\n",
            "          1       1.00      0.30      0.47        56\n",
            "          2       1.00      0.29      0.44        56\n",
            "          3       1.00      0.36      0.53        56\n",
            "          4       1.00      0.18      0.31        61\n",
            "          5       0.13      1.00      0.24        49\n",
            "          6       1.00      0.69      0.82        42\n",
            "          7       1.00      0.30      0.46        57\n",
            "          8       1.00      0.02      0.04        52\n",
            "          9       1.00      0.77      0.87        47\n",
            "\n",
            "avg / total       0.92      0.41      0.46       540\n",
            "\n"
          ],
          "name": "stdout"
        }
      ]
    },
    {
      "metadata": {
        "id": "en-NFJ4ccgtj",
        "colab_type": "code",
        "colab": {
          "base_uri": "https://localhost:8080/",
          "height": 187
        },
        "outputId": "82b1d1e1-6eb6-406b-89ba-db61b0108a01"
      },
      "cell_type": "code",
      "source": [
        "print(metrics.confusion_matrix(Y_test,pred2))"
      ],
      "execution_count": 43,
      "outputs": [
        {
          "output_type": "stream",
          "text": [
            "[[25  0  0  0  0 39  0  0  0  0]\n",
            " [ 0 17  0  0  0 39  0  0  0  0]\n",
            " [ 0  0 16  0  0 40  0  0  0  0]\n",
            " [ 0  0  0 20  0 36  0  0  0  0]\n",
            " [ 0  0  0  0 11 50  0  0  0  0]\n",
            " [ 0  0  0  0  0 49  0  0  0  0]\n",
            " [ 0  0  0  0  0 13 29  0  0  0]\n",
            " [ 0  0  0  0  0 40  0 17  0  0]\n",
            " [ 0  0  0  0  0 51  0  0  1  0]\n",
            " [ 0  0  0  0  0 11  0  0  0 36]]\n"
          ],
          "name": "stdout"
        }
      ]
    },
    {
      "metadata": {
        "id": "AjwkCC5ccqFa",
        "colab_type": "code",
        "colab": {}
      },
      "cell_type": "code",
      "source": [
        ""
      ],
      "execution_count": 0,
      "outputs": []
    }
  ]
}