{
  "nbformat": 4,
  "nbformat_minor": 0,
  "metadata": {
    "colab": {
      "name": "Untitled7.ipynb",
      "version": "0.3.2",
      "provenance": [],
      "collapsed_sections": []
    },
    "kernelspec": {
      "name": "python3",
      "display_name": "Python 3"
    }
  },
  "cells": [
    {
      "cell_type": "markdown",
      "metadata": {
        "id": "view-in-github",
        "colab_type": "text"
      },
      "source": [
        "[View in Colaboratory](https://colab.research.google.com/github/aishasonkar/ML_ON12/blob/master/8th_assignment.ipynb)"
      ]
    },
    {
      "metadata": {
        "id": "RBRovLwV-3Nj",
        "colab_type": "code",
        "colab": {}
      },
      "cell_type": "code",
      "source": [
        "import pandas as pd\n",
        "import seaborn as sns\n",
        "import matplotlib.pyplot as plt\n",
        "%matplotlib inline\n",
        "\n",
        "import sklearn"
      ],
      "execution_count": 0,
      "outputs": []
    },
    {
      "metadata": {
        "id": "QMI0xpQ_aoL9",
        "colab_type": "text"
      },
      "cell_type": "markdown",
      "source": [
        "**bold text**"
      ]
    },
    {
      "metadata": {
        "id": "71h0GyD5aszk",
        "colab_type": "text"
      },
      "cell_type": "markdown",
      "source": [
        ""
      ]
    },
    {
      "metadata": {
        "id": "dZ6bNn7ZazwO",
        "colab_type": "text"
      },
      "cell_type": "markdown",
      "source": [
        "##Exploratory Data Analysis on Titanic dataset by Simran.##\n"
      ]
    },
    {
      "metadata": {
        "id": "ZVtY9BEq-8xc",
        "colab_type": "code",
        "colab": {}
      },
      "cell_type": "code",
      "source": [
        "df=pd.read_csv('http://web.stanford.edu/class/archive/cs/cs109/cs109.1166/stuff/titanic.csv')"
      ],
      "execution_count": 0,
      "outputs": []
    },
    {
      "metadata": {
        "id": "N0zcGuVXbZL1",
        "colab_type": "code",
        "colab": {}
      },
      "cell_type": "code",
      "source": [
        ""
      ],
      "execution_count": 0,
      "outputs": []
    },
    {
      "metadata": {
        "id": "zqfuqZ4uw-Iv",
        "colab_type": "text"
      },
      "cell_type": "markdown",
      "source": [
        "###Titanic Dataset ###\n",
        "This is titanic dataset. in which how many people are survived or not.In which see how many fare of people according to age.  We also see which people belong which class."
      ]
    },
    {
      "metadata": {
        "id": "qk-UMlEV_QzZ",
        "colab_type": "code",
        "colab": {
          "base_uri": "https://localhost:8080/",
          "height": 1969
        },
        "outputId": "f9db4447-3edd-4965-fa04-d4a7b66d4d01"
      },
      "cell_type": "code",
      "source": [
        "df"
      ],
      "execution_count": 3,
      "outputs": [
        {
          "output_type": "execute_result",
          "data": {
            "text/html": [
              "<div>\n",
              "<style scoped>\n",
              "    .dataframe tbody tr th:only-of-type {\n",
              "        vertical-align: middle;\n",
              "    }\n",
              "\n",
              "    .dataframe tbody tr th {\n",
              "        vertical-align: top;\n",
              "    }\n",
              "\n",
              "    .dataframe thead th {\n",
              "        text-align: right;\n",
              "    }\n",
              "</style>\n",
              "<table border=\"1\" class=\"dataframe\">\n",
              "  <thead>\n",
              "    <tr style=\"text-align: right;\">\n",
              "      <th></th>\n",
              "      <th>Survived</th>\n",
              "      <th>Pclass</th>\n",
              "      <th>Name</th>\n",
              "      <th>Sex</th>\n",
              "      <th>Age</th>\n",
              "      <th>Siblings/Spouses Aboard</th>\n",
              "      <th>Parents/Children Aboard</th>\n",
              "      <th>Fare</th>\n",
              "    </tr>\n",
              "  </thead>\n",
              "  <tbody>\n",
              "    <tr>\n",
              "      <th>0</th>\n",
              "      <td>0</td>\n",
              "      <td>3</td>\n",
              "      <td>Mr. Owen Harris Braund</td>\n",
              "      <td>male</td>\n",
              "      <td>22.0</td>\n",
              "      <td>1</td>\n",
              "      <td>0</td>\n",
              "      <td>7.2500</td>\n",
              "    </tr>\n",
              "    <tr>\n",
              "      <th>1</th>\n",
              "      <td>1</td>\n",
              "      <td>1</td>\n",
              "      <td>Mrs. John Bradley (Florence Briggs Thayer) Cum...</td>\n",
              "      <td>female</td>\n",
              "      <td>38.0</td>\n",
              "      <td>1</td>\n",
              "      <td>0</td>\n",
              "      <td>71.2833</td>\n",
              "    </tr>\n",
              "    <tr>\n",
              "      <th>2</th>\n",
              "      <td>1</td>\n",
              "      <td>3</td>\n",
              "      <td>Miss. Laina Heikkinen</td>\n",
              "      <td>female</td>\n",
              "      <td>26.0</td>\n",
              "      <td>0</td>\n",
              "      <td>0</td>\n",
              "      <td>7.9250</td>\n",
              "    </tr>\n",
              "    <tr>\n",
              "      <th>3</th>\n",
              "      <td>1</td>\n",
              "      <td>1</td>\n",
              "      <td>Mrs. Jacques Heath (Lily May Peel) Futrelle</td>\n",
              "      <td>female</td>\n",
              "      <td>35.0</td>\n",
              "      <td>1</td>\n",
              "      <td>0</td>\n",
              "      <td>53.1000</td>\n",
              "    </tr>\n",
              "    <tr>\n",
              "      <th>4</th>\n",
              "      <td>0</td>\n",
              "      <td>3</td>\n",
              "      <td>Mr. William Henry Allen</td>\n",
              "      <td>male</td>\n",
              "      <td>35.0</td>\n",
              "      <td>0</td>\n",
              "      <td>0</td>\n",
              "      <td>8.0500</td>\n",
              "    </tr>\n",
              "    <tr>\n",
              "      <th>5</th>\n",
              "      <td>0</td>\n",
              "      <td>3</td>\n",
              "      <td>Mr. James Moran</td>\n",
              "      <td>male</td>\n",
              "      <td>27.0</td>\n",
              "      <td>0</td>\n",
              "      <td>0</td>\n",
              "      <td>8.4583</td>\n",
              "    </tr>\n",
              "    <tr>\n",
              "      <th>6</th>\n",
              "      <td>0</td>\n",
              "      <td>1</td>\n",
              "      <td>Mr. Timothy J McCarthy</td>\n",
              "      <td>male</td>\n",
              "      <td>54.0</td>\n",
              "      <td>0</td>\n",
              "      <td>0</td>\n",
              "      <td>51.8625</td>\n",
              "    </tr>\n",
              "    <tr>\n",
              "      <th>7</th>\n",
              "      <td>0</td>\n",
              "      <td>3</td>\n",
              "      <td>Master. Gosta Leonard Palsson</td>\n",
              "      <td>male</td>\n",
              "      <td>2.0</td>\n",
              "      <td>3</td>\n",
              "      <td>1</td>\n",
              "      <td>21.0750</td>\n",
              "    </tr>\n",
              "    <tr>\n",
              "      <th>8</th>\n",
              "      <td>1</td>\n",
              "      <td>3</td>\n",
              "      <td>Mrs. Oscar W (Elisabeth Vilhelmina Berg) Johnson</td>\n",
              "      <td>female</td>\n",
              "      <td>27.0</td>\n",
              "      <td>0</td>\n",
              "      <td>2</td>\n",
              "      <td>11.1333</td>\n",
              "    </tr>\n",
              "    <tr>\n",
              "      <th>9</th>\n",
              "      <td>1</td>\n",
              "      <td>2</td>\n",
              "      <td>Mrs. Nicholas (Adele Achem) Nasser</td>\n",
              "      <td>female</td>\n",
              "      <td>14.0</td>\n",
              "      <td>1</td>\n",
              "      <td>0</td>\n",
              "      <td>30.0708</td>\n",
              "    </tr>\n",
              "    <tr>\n",
              "      <th>10</th>\n",
              "      <td>1</td>\n",
              "      <td>3</td>\n",
              "      <td>Miss. Marguerite Rut Sandstrom</td>\n",
              "      <td>female</td>\n",
              "      <td>4.0</td>\n",
              "      <td>1</td>\n",
              "      <td>1</td>\n",
              "      <td>16.7000</td>\n",
              "    </tr>\n",
              "    <tr>\n",
              "      <th>11</th>\n",
              "      <td>1</td>\n",
              "      <td>1</td>\n",
              "      <td>Miss. Elizabeth Bonnell</td>\n",
              "      <td>female</td>\n",
              "      <td>58.0</td>\n",
              "      <td>0</td>\n",
              "      <td>0</td>\n",
              "      <td>26.5500</td>\n",
              "    </tr>\n",
              "    <tr>\n",
              "      <th>12</th>\n",
              "      <td>0</td>\n",
              "      <td>3</td>\n",
              "      <td>Mr. William Henry Saundercock</td>\n",
              "      <td>male</td>\n",
              "      <td>20.0</td>\n",
              "      <td>0</td>\n",
              "      <td>0</td>\n",
              "      <td>8.0500</td>\n",
              "    </tr>\n",
              "    <tr>\n",
              "      <th>13</th>\n",
              "      <td>0</td>\n",
              "      <td>3</td>\n",
              "      <td>Mr. Anders Johan Andersson</td>\n",
              "      <td>male</td>\n",
              "      <td>39.0</td>\n",
              "      <td>1</td>\n",
              "      <td>5</td>\n",
              "      <td>31.2750</td>\n",
              "    </tr>\n",
              "    <tr>\n",
              "      <th>14</th>\n",
              "      <td>0</td>\n",
              "      <td>3</td>\n",
              "      <td>Miss. Hulda Amanda Adolfina Vestrom</td>\n",
              "      <td>female</td>\n",
              "      <td>14.0</td>\n",
              "      <td>0</td>\n",
              "      <td>0</td>\n",
              "      <td>7.8542</td>\n",
              "    </tr>\n",
              "    <tr>\n",
              "      <th>15</th>\n",
              "      <td>1</td>\n",
              "      <td>2</td>\n",
              "      <td>Mrs. (Mary D Kingcome) Hewlett</td>\n",
              "      <td>female</td>\n",
              "      <td>55.0</td>\n",
              "      <td>0</td>\n",
              "      <td>0</td>\n",
              "      <td>16.0000</td>\n",
              "    </tr>\n",
              "    <tr>\n",
              "      <th>16</th>\n",
              "      <td>0</td>\n",
              "      <td>3</td>\n",
              "      <td>Master. Eugene Rice</td>\n",
              "      <td>male</td>\n",
              "      <td>2.0</td>\n",
              "      <td>4</td>\n",
              "      <td>1</td>\n",
              "      <td>29.1250</td>\n",
              "    </tr>\n",
              "    <tr>\n",
              "      <th>17</th>\n",
              "      <td>1</td>\n",
              "      <td>2</td>\n",
              "      <td>Mr. Charles Eugene Williams</td>\n",
              "      <td>male</td>\n",
              "      <td>23.0</td>\n",
              "      <td>0</td>\n",
              "      <td>0</td>\n",
              "      <td>13.0000</td>\n",
              "    </tr>\n",
              "    <tr>\n",
              "      <th>18</th>\n",
              "      <td>0</td>\n",
              "      <td>3</td>\n",
              "      <td>Mrs. Julius (Emelia Maria Vandemoortele) Vande...</td>\n",
              "      <td>female</td>\n",
              "      <td>31.0</td>\n",
              "      <td>1</td>\n",
              "      <td>0</td>\n",
              "      <td>18.0000</td>\n",
              "    </tr>\n",
              "    <tr>\n",
              "      <th>19</th>\n",
              "      <td>1</td>\n",
              "      <td>3</td>\n",
              "      <td>Mrs. Fatima Masselmani</td>\n",
              "      <td>female</td>\n",
              "      <td>22.0</td>\n",
              "      <td>0</td>\n",
              "      <td>0</td>\n",
              "      <td>7.2250</td>\n",
              "    </tr>\n",
              "    <tr>\n",
              "      <th>20</th>\n",
              "      <td>0</td>\n",
              "      <td>2</td>\n",
              "      <td>Mr. Joseph J Fynney</td>\n",
              "      <td>male</td>\n",
              "      <td>35.0</td>\n",
              "      <td>0</td>\n",
              "      <td>0</td>\n",
              "      <td>26.0000</td>\n",
              "    </tr>\n",
              "    <tr>\n",
              "      <th>21</th>\n",
              "      <td>1</td>\n",
              "      <td>2</td>\n",
              "      <td>Mr. Lawrence Beesley</td>\n",
              "      <td>male</td>\n",
              "      <td>34.0</td>\n",
              "      <td>0</td>\n",
              "      <td>0</td>\n",
              "      <td>13.0000</td>\n",
              "    </tr>\n",
              "    <tr>\n",
              "      <th>22</th>\n",
              "      <td>1</td>\n",
              "      <td>3</td>\n",
              "      <td>Miss. Anna McGowan</td>\n",
              "      <td>female</td>\n",
              "      <td>15.0</td>\n",
              "      <td>0</td>\n",
              "      <td>0</td>\n",
              "      <td>8.0292</td>\n",
              "    </tr>\n",
              "    <tr>\n",
              "      <th>23</th>\n",
              "      <td>1</td>\n",
              "      <td>1</td>\n",
              "      <td>Mr. William Thompson Sloper</td>\n",
              "      <td>male</td>\n",
              "      <td>28.0</td>\n",
              "      <td>0</td>\n",
              "      <td>0</td>\n",
              "      <td>35.5000</td>\n",
              "    </tr>\n",
              "    <tr>\n",
              "      <th>24</th>\n",
              "      <td>0</td>\n",
              "      <td>3</td>\n",
              "      <td>Miss. Torborg Danira Palsson</td>\n",
              "      <td>female</td>\n",
              "      <td>8.0</td>\n",
              "      <td>3</td>\n",
              "      <td>1</td>\n",
              "      <td>21.0750</td>\n",
              "    </tr>\n",
              "    <tr>\n",
              "      <th>25</th>\n",
              "      <td>1</td>\n",
              "      <td>3</td>\n",
              "      <td>Mrs. Carl Oscar (Selma Augusta Emilia Johansso...</td>\n",
              "      <td>female</td>\n",
              "      <td>38.0</td>\n",
              "      <td>1</td>\n",
              "      <td>5</td>\n",
              "      <td>31.3875</td>\n",
              "    </tr>\n",
              "    <tr>\n",
              "      <th>26</th>\n",
              "      <td>0</td>\n",
              "      <td>3</td>\n",
              "      <td>Mr. Farred Chehab Emir</td>\n",
              "      <td>male</td>\n",
              "      <td>26.0</td>\n",
              "      <td>0</td>\n",
              "      <td>0</td>\n",
              "      <td>7.2250</td>\n",
              "    </tr>\n",
              "    <tr>\n",
              "      <th>27</th>\n",
              "      <td>0</td>\n",
              "      <td>1</td>\n",
              "      <td>Mr. Charles Alexander Fortune</td>\n",
              "      <td>male</td>\n",
              "      <td>19.0</td>\n",
              "      <td>3</td>\n",
              "      <td>2</td>\n",
              "      <td>263.0000</td>\n",
              "    </tr>\n",
              "    <tr>\n",
              "      <th>28</th>\n",
              "      <td>1</td>\n",
              "      <td>3</td>\n",
              "      <td>Miss. Ellen O'Dwyer</td>\n",
              "      <td>female</td>\n",
              "      <td>24.0</td>\n",
              "      <td>0</td>\n",
              "      <td>0</td>\n",
              "      <td>7.8792</td>\n",
              "    </tr>\n",
              "    <tr>\n",
              "      <th>29</th>\n",
              "      <td>0</td>\n",
              "      <td>3</td>\n",
              "      <td>Mr. Lalio Todoroff</td>\n",
              "      <td>male</td>\n",
              "      <td>23.0</td>\n",
              "      <td>0</td>\n",
              "      <td>0</td>\n",
              "      <td>7.8958</td>\n",
              "    </tr>\n",
              "    <tr>\n",
              "      <th>...</th>\n",
              "      <td>...</td>\n",
              "      <td>...</td>\n",
              "      <td>...</td>\n",
              "      <td>...</td>\n",
              "      <td>...</td>\n",
              "      <td>...</td>\n",
              "      <td>...</td>\n",
              "      <td>...</td>\n",
              "    </tr>\n",
              "    <tr>\n",
              "      <th>857</th>\n",
              "      <td>0</td>\n",
              "      <td>2</td>\n",
              "      <td>Mr. Frederick Edward Giles</td>\n",
              "      <td>male</td>\n",
              "      <td>21.0</td>\n",
              "      <td>1</td>\n",
              "      <td>0</td>\n",
              "      <td>11.5000</td>\n",
              "    </tr>\n",
              "    <tr>\n",
              "      <th>858</th>\n",
              "      <td>1</td>\n",
              "      <td>1</td>\n",
              "      <td>Mrs. Frederick Joel (Margaret Welles Barron) S...</td>\n",
              "      <td>female</td>\n",
              "      <td>48.0</td>\n",
              "      <td>0</td>\n",
              "      <td>0</td>\n",
              "      <td>25.9292</td>\n",
              "    </tr>\n",
              "    <tr>\n",
              "      <th>859</th>\n",
              "      <td>0</td>\n",
              "      <td>3</td>\n",
              "      <td>Miss. Dorothy Edith Sage</td>\n",
              "      <td>female</td>\n",
              "      <td>14.0</td>\n",
              "      <td>8</td>\n",
              "      <td>2</td>\n",
              "      <td>69.5500</td>\n",
              "    </tr>\n",
              "    <tr>\n",
              "      <th>860</th>\n",
              "      <td>0</td>\n",
              "      <td>2</td>\n",
              "      <td>Mr. John William Gill</td>\n",
              "      <td>male</td>\n",
              "      <td>24.0</td>\n",
              "      <td>0</td>\n",
              "      <td>0</td>\n",
              "      <td>13.0000</td>\n",
              "    </tr>\n",
              "    <tr>\n",
              "      <th>861</th>\n",
              "      <td>1</td>\n",
              "      <td>2</td>\n",
              "      <td>Mrs. (Karolina) Bystrom</td>\n",
              "      <td>female</td>\n",
              "      <td>42.0</td>\n",
              "      <td>0</td>\n",
              "      <td>0</td>\n",
              "      <td>13.0000</td>\n",
              "    </tr>\n",
              "    <tr>\n",
              "      <th>862</th>\n",
              "      <td>1</td>\n",
              "      <td>2</td>\n",
              "      <td>Miss. Asuncion Duran y More</td>\n",
              "      <td>female</td>\n",
              "      <td>27.0</td>\n",
              "      <td>1</td>\n",
              "      <td>0</td>\n",
              "      <td>13.8583</td>\n",
              "    </tr>\n",
              "    <tr>\n",
              "      <th>863</th>\n",
              "      <td>0</td>\n",
              "      <td>1</td>\n",
              "      <td>Mr. Washington Augustus II Roebling</td>\n",
              "      <td>male</td>\n",
              "      <td>31.0</td>\n",
              "      <td>0</td>\n",
              "      <td>0</td>\n",
              "      <td>50.4958</td>\n",
              "    </tr>\n",
              "    <tr>\n",
              "      <th>864</th>\n",
              "      <td>0</td>\n",
              "      <td>3</td>\n",
              "      <td>Mr. Philemon van Melkebeke</td>\n",
              "      <td>male</td>\n",
              "      <td>23.0</td>\n",
              "      <td>0</td>\n",
              "      <td>0</td>\n",
              "      <td>9.5000</td>\n",
              "    </tr>\n",
              "    <tr>\n",
              "      <th>865</th>\n",
              "      <td>1</td>\n",
              "      <td>3</td>\n",
              "      <td>Master. Harold Theodor Johnson</td>\n",
              "      <td>male</td>\n",
              "      <td>4.0</td>\n",
              "      <td>1</td>\n",
              "      <td>1</td>\n",
              "      <td>11.1333</td>\n",
              "    </tr>\n",
              "    <tr>\n",
              "      <th>866</th>\n",
              "      <td>0</td>\n",
              "      <td>3</td>\n",
              "      <td>Mr. Cerin Balkic</td>\n",
              "      <td>male</td>\n",
              "      <td>26.0</td>\n",
              "      <td>0</td>\n",
              "      <td>0</td>\n",
              "      <td>7.8958</td>\n",
              "    </tr>\n",
              "    <tr>\n",
              "      <th>867</th>\n",
              "      <td>1</td>\n",
              "      <td>1</td>\n",
              "      <td>Mrs. Richard Leonard (Sallie Monypeny) Beckwith</td>\n",
              "      <td>female</td>\n",
              "      <td>47.0</td>\n",
              "      <td>1</td>\n",
              "      <td>1</td>\n",
              "      <td>52.5542</td>\n",
              "    </tr>\n",
              "    <tr>\n",
              "      <th>868</th>\n",
              "      <td>0</td>\n",
              "      <td>1</td>\n",
              "      <td>Mr. Frans Olof Carlsson</td>\n",
              "      <td>male</td>\n",
              "      <td>33.0</td>\n",
              "      <td>0</td>\n",
              "      <td>0</td>\n",
              "      <td>5.0000</td>\n",
              "    </tr>\n",
              "    <tr>\n",
              "      <th>869</th>\n",
              "      <td>0</td>\n",
              "      <td>3</td>\n",
              "      <td>Mr. Victor Vander Cruyssen</td>\n",
              "      <td>male</td>\n",
              "      <td>47.0</td>\n",
              "      <td>0</td>\n",
              "      <td>0</td>\n",
              "      <td>9.0000</td>\n",
              "    </tr>\n",
              "    <tr>\n",
              "      <th>870</th>\n",
              "      <td>1</td>\n",
              "      <td>2</td>\n",
              "      <td>Mrs. Samuel (Hannah Wizosky) Abelson</td>\n",
              "      <td>female</td>\n",
              "      <td>28.0</td>\n",
              "      <td>1</td>\n",
              "      <td>0</td>\n",
              "      <td>24.0000</td>\n",
              "    </tr>\n",
              "    <tr>\n",
              "      <th>871</th>\n",
              "      <td>1</td>\n",
              "      <td>3</td>\n",
              "      <td>Miss. Adele Kiamie Najib</td>\n",
              "      <td>female</td>\n",
              "      <td>15.0</td>\n",
              "      <td>0</td>\n",
              "      <td>0</td>\n",
              "      <td>7.2250</td>\n",
              "    </tr>\n",
              "    <tr>\n",
              "      <th>872</th>\n",
              "      <td>0</td>\n",
              "      <td>3</td>\n",
              "      <td>Mr. Alfred Ossian Gustafsson</td>\n",
              "      <td>male</td>\n",
              "      <td>20.0</td>\n",
              "      <td>0</td>\n",
              "      <td>0</td>\n",
              "      <td>9.8458</td>\n",
              "    </tr>\n",
              "    <tr>\n",
              "      <th>873</th>\n",
              "      <td>0</td>\n",
              "      <td>3</td>\n",
              "      <td>Mr. Nedelio Petroff</td>\n",
              "      <td>male</td>\n",
              "      <td>19.0</td>\n",
              "      <td>0</td>\n",
              "      <td>0</td>\n",
              "      <td>7.8958</td>\n",
              "    </tr>\n",
              "    <tr>\n",
              "      <th>874</th>\n",
              "      <td>0</td>\n",
              "      <td>3</td>\n",
              "      <td>Mr. Kristo Laleff</td>\n",
              "      <td>male</td>\n",
              "      <td>23.0</td>\n",
              "      <td>0</td>\n",
              "      <td>0</td>\n",
              "      <td>7.8958</td>\n",
              "    </tr>\n",
              "    <tr>\n",
              "      <th>875</th>\n",
              "      <td>1</td>\n",
              "      <td>1</td>\n",
              "      <td>Mrs. Thomas Jr (Lily Alexenia Wilson) Potter</td>\n",
              "      <td>female</td>\n",
              "      <td>56.0</td>\n",
              "      <td>0</td>\n",
              "      <td>1</td>\n",
              "      <td>83.1583</td>\n",
              "    </tr>\n",
              "    <tr>\n",
              "      <th>876</th>\n",
              "      <td>1</td>\n",
              "      <td>2</td>\n",
              "      <td>Mrs. William (Imanita Parrish Hall) Shelley</td>\n",
              "      <td>female</td>\n",
              "      <td>25.0</td>\n",
              "      <td>0</td>\n",
              "      <td>1</td>\n",
              "      <td>26.0000</td>\n",
              "    </tr>\n",
              "    <tr>\n",
              "      <th>877</th>\n",
              "      <td>0</td>\n",
              "      <td>3</td>\n",
              "      <td>Mr. Johann Markun</td>\n",
              "      <td>male</td>\n",
              "      <td>33.0</td>\n",
              "      <td>0</td>\n",
              "      <td>0</td>\n",
              "      <td>7.8958</td>\n",
              "    </tr>\n",
              "    <tr>\n",
              "      <th>878</th>\n",
              "      <td>0</td>\n",
              "      <td>3</td>\n",
              "      <td>Miss. Gerda Ulrika Dahlberg</td>\n",
              "      <td>female</td>\n",
              "      <td>22.0</td>\n",
              "      <td>0</td>\n",
              "      <td>0</td>\n",
              "      <td>10.5167</td>\n",
              "    </tr>\n",
              "    <tr>\n",
              "      <th>879</th>\n",
              "      <td>0</td>\n",
              "      <td>2</td>\n",
              "      <td>Mr. Frederick James Banfield</td>\n",
              "      <td>male</td>\n",
              "      <td>28.0</td>\n",
              "      <td>0</td>\n",
              "      <td>0</td>\n",
              "      <td>10.5000</td>\n",
              "    </tr>\n",
              "    <tr>\n",
              "      <th>880</th>\n",
              "      <td>0</td>\n",
              "      <td>3</td>\n",
              "      <td>Mr. Henry Jr Sutehall</td>\n",
              "      <td>male</td>\n",
              "      <td>25.0</td>\n",
              "      <td>0</td>\n",
              "      <td>0</td>\n",
              "      <td>7.0500</td>\n",
              "    </tr>\n",
              "    <tr>\n",
              "      <th>881</th>\n",
              "      <td>0</td>\n",
              "      <td>3</td>\n",
              "      <td>Mrs. William (Margaret Norton) Rice</td>\n",
              "      <td>female</td>\n",
              "      <td>39.0</td>\n",
              "      <td>0</td>\n",
              "      <td>5</td>\n",
              "      <td>29.1250</td>\n",
              "    </tr>\n",
              "    <tr>\n",
              "      <th>882</th>\n",
              "      <td>0</td>\n",
              "      <td>2</td>\n",
              "      <td>Rev. Juozas Montvila</td>\n",
              "      <td>male</td>\n",
              "      <td>27.0</td>\n",
              "      <td>0</td>\n",
              "      <td>0</td>\n",
              "      <td>13.0000</td>\n",
              "    </tr>\n",
              "    <tr>\n",
              "      <th>883</th>\n",
              "      <td>1</td>\n",
              "      <td>1</td>\n",
              "      <td>Miss. Margaret Edith Graham</td>\n",
              "      <td>female</td>\n",
              "      <td>19.0</td>\n",
              "      <td>0</td>\n",
              "      <td>0</td>\n",
              "      <td>30.0000</td>\n",
              "    </tr>\n",
              "    <tr>\n",
              "      <th>884</th>\n",
              "      <td>0</td>\n",
              "      <td>3</td>\n",
              "      <td>Miss. Catherine Helen Johnston</td>\n",
              "      <td>female</td>\n",
              "      <td>7.0</td>\n",
              "      <td>1</td>\n",
              "      <td>2</td>\n",
              "      <td>23.4500</td>\n",
              "    </tr>\n",
              "    <tr>\n",
              "      <th>885</th>\n",
              "      <td>1</td>\n",
              "      <td>1</td>\n",
              "      <td>Mr. Karl Howell Behr</td>\n",
              "      <td>male</td>\n",
              "      <td>26.0</td>\n",
              "      <td>0</td>\n",
              "      <td>0</td>\n",
              "      <td>30.0000</td>\n",
              "    </tr>\n",
              "    <tr>\n",
              "      <th>886</th>\n",
              "      <td>0</td>\n",
              "      <td>3</td>\n",
              "      <td>Mr. Patrick Dooley</td>\n",
              "      <td>male</td>\n",
              "      <td>32.0</td>\n",
              "      <td>0</td>\n",
              "      <td>0</td>\n",
              "      <td>7.7500</td>\n",
              "    </tr>\n",
              "  </tbody>\n",
              "</table>\n",
              "<p>887 rows × 8 columns</p>\n",
              "</div>"
            ],
            "text/plain": [
              "     Survived  Pclass                                               Name  \\\n",
              "0           0       3                             Mr. Owen Harris Braund   \n",
              "1           1       1  Mrs. John Bradley (Florence Briggs Thayer) Cum...   \n",
              "2           1       3                              Miss. Laina Heikkinen   \n",
              "3           1       1        Mrs. Jacques Heath (Lily May Peel) Futrelle   \n",
              "4           0       3                            Mr. William Henry Allen   \n",
              "5           0       3                                    Mr. James Moran   \n",
              "6           0       1                             Mr. Timothy J McCarthy   \n",
              "7           0       3                      Master. Gosta Leonard Palsson   \n",
              "8           1       3   Mrs. Oscar W (Elisabeth Vilhelmina Berg) Johnson   \n",
              "9           1       2                 Mrs. Nicholas (Adele Achem) Nasser   \n",
              "10          1       3                     Miss. Marguerite Rut Sandstrom   \n",
              "11          1       1                            Miss. Elizabeth Bonnell   \n",
              "12          0       3                      Mr. William Henry Saundercock   \n",
              "13          0       3                         Mr. Anders Johan Andersson   \n",
              "14          0       3                Miss. Hulda Amanda Adolfina Vestrom   \n",
              "15          1       2                     Mrs. (Mary D Kingcome) Hewlett   \n",
              "16          0       3                                Master. Eugene Rice   \n",
              "17          1       2                        Mr. Charles Eugene Williams   \n",
              "18          0       3  Mrs. Julius (Emelia Maria Vandemoortele) Vande...   \n",
              "19          1       3                             Mrs. Fatima Masselmani   \n",
              "20          0       2                                Mr. Joseph J Fynney   \n",
              "21          1       2                               Mr. Lawrence Beesley   \n",
              "22          1       3                                 Miss. Anna McGowan   \n",
              "23          1       1                        Mr. William Thompson Sloper   \n",
              "24          0       3                       Miss. Torborg Danira Palsson   \n",
              "25          1       3  Mrs. Carl Oscar (Selma Augusta Emilia Johansso...   \n",
              "26          0       3                             Mr. Farred Chehab Emir   \n",
              "27          0       1                      Mr. Charles Alexander Fortune   \n",
              "28          1       3                                Miss. Ellen O'Dwyer   \n",
              "29          0       3                                 Mr. Lalio Todoroff   \n",
              "..        ...     ...                                                ...   \n",
              "857         0       2                         Mr. Frederick Edward Giles   \n",
              "858         1       1  Mrs. Frederick Joel (Margaret Welles Barron) S...   \n",
              "859         0       3                           Miss. Dorothy Edith Sage   \n",
              "860         0       2                              Mr. John William Gill   \n",
              "861         1       2                            Mrs. (Karolina) Bystrom   \n",
              "862         1       2                        Miss. Asuncion Duran y More   \n",
              "863         0       1                Mr. Washington Augustus II Roebling   \n",
              "864         0       3                         Mr. Philemon van Melkebeke   \n",
              "865         1       3                     Master. Harold Theodor Johnson   \n",
              "866         0       3                                   Mr. Cerin Balkic   \n",
              "867         1       1    Mrs. Richard Leonard (Sallie Monypeny) Beckwith   \n",
              "868         0       1                            Mr. Frans Olof Carlsson   \n",
              "869         0       3                         Mr. Victor Vander Cruyssen   \n",
              "870         1       2               Mrs. Samuel (Hannah Wizosky) Abelson   \n",
              "871         1       3                           Miss. Adele Kiamie Najib   \n",
              "872         0       3                       Mr. Alfred Ossian Gustafsson   \n",
              "873         0       3                                Mr. Nedelio Petroff   \n",
              "874         0       3                                  Mr. Kristo Laleff   \n",
              "875         1       1       Mrs. Thomas Jr (Lily Alexenia Wilson) Potter   \n",
              "876         1       2        Mrs. William (Imanita Parrish Hall) Shelley   \n",
              "877         0       3                                  Mr. Johann Markun   \n",
              "878         0       3                        Miss. Gerda Ulrika Dahlberg   \n",
              "879         0       2                       Mr. Frederick James Banfield   \n",
              "880         0       3                              Mr. Henry Jr Sutehall   \n",
              "881         0       3                Mrs. William (Margaret Norton) Rice   \n",
              "882         0       2                               Rev. Juozas Montvila   \n",
              "883         1       1                        Miss. Margaret Edith Graham   \n",
              "884         0       3                     Miss. Catherine Helen Johnston   \n",
              "885         1       1                               Mr. Karl Howell Behr   \n",
              "886         0       3                                 Mr. Patrick Dooley   \n",
              "\n",
              "        Sex   Age  Siblings/Spouses Aboard  Parents/Children Aboard      Fare  \n",
              "0      male  22.0                        1                        0    7.2500  \n",
              "1    female  38.0                        1                        0   71.2833  \n",
              "2    female  26.0                        0                        0    7.9250  \n",
              "3    female  35.0                        1                        0   53.1000  \n",
              "4      male  35.0                        0                        0    8.0500  \n",
              "5      male  27.0                        0                        0    8.4583  \n",
              "6      male  54.0                        0                        0   51.8625  \n",
              "7      male   2.0                        3                        1   21.0750  \n",
              "8    female  27.0                        0                        2   11.1333  \n",
              "9    female  14.0                        1                        0   30.0708  \n",
              "10   female   4.0                        1                        1   16.7000  \n",
              "11   female  58.0                        0                        0   26.5500  \n",
              "12     male  20.0                        0                        0    8.0500  \n",
              "13     male  39.0                        1                        5   31.2750  \n",
              "14   female  14.0                        0                        0    7.8542  \n",
              "15   female  55.0                        0                        0   16.0000  \n",
              "16     male   2.0                        4                        1   29.1250  \n",
              "17     male  23.0                        0                        0   13.0000  \n",
              "18   female  31.0                        1                        0   18.0000  \n",
              "19   female  22.0                        0                        0    7.2250  \n",
              "20     male  35.0                        0                        0   26.0000  \n",
              "21     male  34.0                        0                        0   13.0000  \n",
              "22   female  15.0                        0                        0    8.0292  \n",
              "23     male  28.0                        0                        0   35.5000  \n",
              "24   female   8.0                        3                        1   21.0750  \n",
              "25   female  38.0                        1                        5   31.3875  \n",
              "26     male  26.0                        0                        0    7.2250  \n",
              "27     male  19.0                        3                        2  263.0000  \n",
              "28   female  24.0                        0                        0    7.8792  \n",
              "29     male  23.0                        0                        0    7.8958  \n",
              "..      ...   ...                      ...                      ...       ...  \n",
              "857    male  21.0                        1                        0   11.5000  \n",
              "858  female  48.0                        0                        0   25.9292  \n",
              "859  female  14.0                        8                        2   69.5500  \n",
              "860    male  24.0                        0                        0   13.0000  \n",
              "861  female  42.0                        0                        0   13.0000  \n",
              "862  female  27.0                        1                        0   13.8583  \n",
              "863    male  31.0                        0                        0   50.4958  \n",
              "864    male  23.0                        0                        0    9.5000  \n",
              "865    male   4.0                        1                        1   11.1333  \n",
              "866    male  26.0                        0                        0    7.8958  \n",
              "867  female  47.0                        1                        1   52.5542  \n",
              "868    male  33.0                        0                        0    5.0000  \n",
              "869    male  47.0                        0                        0    9.0000  \n",
              "870  female  28.0                        1                        0   24.0000  \n",
              "871  female  15.0                        0                        0    7.2250  \n",
              "872    male  20.0                        0                        0    9.8458  \n",
              "873    male  19.0                        0                        0    7.8958  \n",
              "874    male  23.0                        0                        0    7.8958  \n",
              "875  female  56.0                        0                        1   83.1583  \n",
              "876  female  25.0                        0                        1   26.0000  \n",
              "877    male  33.0                        0                        0    7.8958  \n",
              "878  female  22.0                        0                        0   10.5167  \n",
              "879    male  28.0                        0                        0   10.5000  \n",
              "880    male  25.0                        0                        0    7.0500  \n",
              "881  female  39.0                        0                        5   29.1250  \n",
              "882    male  27.0                        0                        0   13.0000  \n",
              "883  female  19.0                        0                        0   30.0000  \n",
              "884  female   7.0                        1                        2   23.4500  \n",
              "885    male  26.0                        0                        0   30.0000  \n",
              "886    male  32.0                        0                        0    7.7500  \n",
              "\n",
              "[887 rows x 8 columns]"
            ]
          },
          "metadata": {
            "tags": []
          },
          "execution_count": 3
        }
      ]
    },
    {
      "metadata": {
        "id": "WbM5FbTs_R61",
        "colab_type": "code",
        "colab": {
          "base_uri": "https://localhost:8080/",
          "height": 34
        },
        "outputId": "2de30fcc-a680-438e-be36-0104a4738f4f"
      },
      "cell_type": "code",
      "source": [
        "df.shape"
      ],
      "execution_count": 4,
      "outputs": [
        {
          "output_type": "execute_result",
          "data": {
            "text/plain": [
              "(887, 8)"
            ]
          },
          "metadata": {
            "tags": []
          },
          "execution_count": 4
        }
      ]
    },
    {
      "metadata": {
        "id": "hPv0QAFXXeIq",
        "colab_type": "code",
        "colab": {
          "base_uri": "https://localhost:8080/",
          "height": 34
        },
        "outputId": "10923981-e8a1-48f1-fbbb-d611c877d413"
      },
      "cell_type": "code",
      "source": [
        "df.size"
      ],
      "execution_count": 5,
      "outputs": [
        {
          "output_type": "execute_result",
          "data": {
            "text/plain": [
              "7096"
            ]
          },
          "metadata": {
            "tags": []
          },
          "execution_count": 5
        }
      ]
    },
    {
      "metadata": {
        "id": "7HqIoFs4brlM",
        "colab_type": "code",
        "colab": {}
      },
      "cell_type": "code",
      "source": [
        ""
      ],
      "execution_count": 0,
      "outputs": []
    },
    {
      "metadata": {
        "id": "mFP-wSvQb3Oz",
        "colab_type": "text"
      },
      "cell_type": "markdown",
      "source": [
        "# # Attribute Information##                  0\n",
        " 1.Pclass                     \n",
        "2.Name                       \n",
        "3.Sex                        \n",
        "4.Age                        \n",
        "5.Siblings/Spouses Aboard    \n",
        "6.Parents/Children Aboard    \n",
        "7.Fare           \n",
        "\n",
        "\n"
      ]
    },
    {
      "metadata": {
        "id": "OOb3oJQdbrjS",
        "colab_type": "code",
        "colab": {}
      },
      "cell_type": "code",
      "source": [
        ""
      ],
      "execution_count": 0,
      "outputs": []
    },
    {
      "metadata": {
        "id": "Rz9kn_qbXhbf",
        "colab_type": "code",
        "colab": {
          "base_uri": "https://localhost:8080/",
          "height": 170
        },
        "outputId": "fd9f2c09-c719-43df-a455-881380138f16"
      },
      "cell_type": "code",
      "source": [
        "df.isnull().sum()"
      ],
      "execution_count": 6,
      "outputs": [
        {
          "output_type": "execute_result",
          "data": {
            "text/plain": [
              "Survived                   0\n",
              "Pclass                     0\n",
              "Name                       0\n",
              "Sex                        0\n",
              "Age                        0\n",
              "Siblings/Spouses Aboard    0\n",
              "Parents/Children Aboard    0\n",
              "Fare                       0\n",
              "dtype: int64"
            ]
          },
          "metadata": {
            "tags": []
          },
          "execution_count": 6
        }
      ]
    },
    {
      "metadata": {
        "id": "apMB5frq7x-L",
        "colab_type": "code",
        "colab": {
          "base_uri": "https://localhost:8080/",
          "height": 297
        },
        "outputId": "08d21f68-2c85-45cc-ce6c-07a8bb0907bc"
      },
      "cell_type": "code",
      "source": [
        "df.describe()"
      ],
      "execution_count": 7,
      "outputs": [
        {
          "output_type": "execute_result",
          "data": {
            "text/html": [
              "<div>\n",
              "<style scoped>\n",
              "    .dataframe tbody tr th:only-of-type {\n",
              "        vertical-align: middle;\n",
              "    }\n",
              "\n",
              "    .dataframe tbody tr th {\n",
              "        vertical-align: top;\n",
              "    }\n",
              "\n",
              "    .dataframe thead th {\n",
              "        text-align: right;\n",
              "    }\n",
              "</style>\n",
              "<table border=\"1\" class=\"dataframe\">\n",
              "  <thead>\n",
              "    <tr style=\"text-align: right;\">\n",
              "      <th></th>\n",
              "      <th>Survived</th>\n",
              "      <th>Pclass</th>\n",
              "      <th>Age</th>\n",
              "      <th>Siblings/Spouses Aboard</th>\n",
              "      <th>Parents/Children Aboard</th>\n",
              "      <th>Fare</th>\n",
              "    </tr>\n",
              "  </thead>\n",
              "  <tbody>\n",
              "    <tr>\n",
              "      <th>count</th>\n",
              "      <td>887.000000</td>\n",
              "      <td>887.000000</td>\n",
              "      <td>887.000000</td>\n",
              "      <td>887.000000</td>\n",
              "      <td>887.000000</td>\n",
              "      <td>887.00000</td>\n",
              "    </tr>\n",
              "    <tr>\n",
              "      <th>mean</th>\n",
              "      <td>0.385569</td>\n",
              "      <td>2.305524</td>\n",
              "      <td>29.471443</td>\n",
              "      <td>0.525366</td>\n",
              "      <td>0.383315</td>\n",
              "      <td>32.30542</td>\n",
              "    </tr>\n",
              "    <tr>\n",
              "      <th>std</th>\n",
              "      <td>0.487004</td>\n",
              "      <td>0.836662</td>\n",
              "      <td>14.121908</td>\n",
              "      <td>1.104669</td>\n",
              "      <td>0.807466</td>\n",
              "      <td>49.78204</td>\n",
              "    </tr>\n",
              "    <tr>\n",
              "      <th>min</th>\n",
              "      <td>0.000000</td>\n",
              "      <td>1.000000</td>\n",
              "      <td>0.420000</td>\n",
              "      <td>0.000000</td>\n",
              "      <td>0.000000</td>\n",
              "      <td>0.00000</td>\n",
              "    </tr>\n",
              "    <tr>\n",
              "      <th>25%</th>\n",
              "      <td>0.000000</td>\n",
              "      <td>2.000000</td>\n",
              "      <td>20.250000</td>\n",
              "      <td>0.000000</td>\n",
              "      <td>0.000000</td>\n",
              "      <td>7.92500</td>\n",
              "    </tr>\n",
              "    <tr>\n",
              "      <th>50%</th>\n",
              "      <td>0.000000</td>\n",
              "      <td>3.000000</td>\n",
              "      <td>28.000000</td>\n",
              "      <td>0.000000</td>\n",
              "      <td>0.000000</td>\n",
              "      <td>14.45420</td>\n",
              "    </tr>\n",
              "    <tr>\n",
              "      <th>75%</th>\n",
              "      <td>1.000000</td>\n",
              "      <td>3.000000</td>\n",
              "      <td>38.000000</td>\n",
              "      <td>1.000000</td>\n",
              "      <td>0.000000</td>\n",
              "      <td>31.13750</td>\n",
              "    </tr>\n",
              "    <tr>\n",
              "      <th>max</th>\n",
              "      <td>1.000000</td>\n",
              "      <td>3.000000</td>\n",
              "      <td>80.000000</td>\n",
              "      <td>8.000000</td>\n",
              "      <td>6.000000</td>\n",
              "      <td>512.32920</td>\n",
              "    </tr>\n",
              "  </tbody>\n",
              "</table>\n",
              "</div>"
            ],
            "text/plain": [
              "         Survived      Pclass         Age  Siblings/Spouses Aboard  \\\n",
              "count  887.000000  887.000000  887.000000               887.000000   \n",
              "mean     0.385569    2.305524   29.471443                 0.525366   \n",
              "std      0.487004    0.836662   14.121908                 1.104669   \n",
              "min      0.000000    1.000000    0.420000                 0.000000   \n",
              "25%      0.000000    2.000000   20.250000                 0.000000   \n",
              "50%      0.000000    3.000000   28.000000                 0.000000   \n",
              "75%      1.000000    3.000000   38.000000                 1.000000   \n",
              "max      1.000000    3.000000   80.000000                 8.000000   \n",
              "\n",
              "       Parents/Children Aboard       Fare  \n",
              "count               887.000000  887.00000  \n",
              "mean                  0.383315   32.30542  \n",
              "std                   0.807466   49.78204  \n",
              "min                   0.000000    0.00000  \n",
              "25%                   0.000000    7.92500  \n",
              "50%                   0.000000   14.45420  \n",
              "75%                   0.000000   31.13750  \n",
              "max                   6.000000  512.32920  "
            ]
          },
          "metadata": {
            "tags": []
          },
          "execution_count": 7
        }
      ]
    },
    {
      "metadata": {
        "id": "jD8_G8L5dDBv",
        "colab_type": "text"
      },
      "cell_type": "markdown",
      "source": [
        "###  Univariant Analysis###\n",
        "this plot is bar plot.\n",
        "1.this plot is shows about the Siblings which is present in titanic dataset\n",
        "2.this is bar plot\n",
        "3.this  data is catagorical data\n",
        "4.This is Univariant analysis\n"
      ]
    },
    {
      "metadata": {
        "id": "GZsWfQ4JdAgh",
        "colab_type": "code",
        "colab": {}
      },
      "cell_type": "code",
      "source": [
        ""
      ],
      "execution_count": 0,
      "outputs": []
    },
    {
      "metadata": {
        "id": "DPPalHpDXk_a",
        "colab_type": "code",
        "colab": {
          "base_uri": "https://localhost:8080/",
          "height": 330
        },
        "outputId": "33e0158f-73cb-4238-814e-88d3e60a485b"
      },
      "cell_type": "code",
      "source": [
        "sns.countplot(x='Siblings/Spouses Aboard',data=df)"
      ],
      "execution_count": 8,
      "outputs": [
        {
          "output_type": "stream",
          "text": [
            "/usr/local/lib/python3.6/dist-packages/seaborn/categorical.py:1428: FutureWarning: remove_na is deprecated and is a private function. Do not use.\n",
            "  stat_data = remove_na(group_data)\n"
          ],
          "name": "stderr"
        },
        {
          "output_type": "execute_result",
          "data": {
            "text/plain": [
              "<matplotlib.axes._subplots.AxesSubplot at 0x7feb4017fb38>"
            ]
          },
          "metadata": {
            "tags": []
          },
          "execution_count": 8
        },
        {
          "output_type": "display_data",
          "data": {
            "image/png": "[encoded data removed]",
            "text/plain": [
              "<matplotlib.figure.Figure at 0x7feb61e150b8>"
            ]
          },
          "metadata": {
            "tags": []
          }
        }
      ]
    },
    {
      "metadata": {
        "id": "pT6esDI6X_0D",
        "colab_type": "code",
        "colab": {}
      },
      "cell_type": "code",
      "source": [
        ""
      ],
      "execution_count": 0,
      "outputs": []
    },
    {
      "metadata": {
        "id": "hR3kAPGRgL_q",
        "colab_type": "text"
      },
      "cell_type": "markdown",
      "source": [
        ""
      ]
    },
    {
      "metadata": {
        "id": "3nbUKD3jgPfO",
        "colab_type": "text"
      },
      "cell_type": "markdown",
      "source": [
        "this Graph is also Univariant Analysis.\n",
        "1. this is continuos in nature\n",
        "2.in which have outlier\n",
        "3.This is like Bell shape curve.\n",
        "4.In which ages are plotted which is present in Titanic data"
      ]
    },
    {
      "metadata": {
        "id": "jxXwv0ubbUOZ",
        "colab_type": "code",
        "colab": {
          "base_uri": "https://localhost:8080/",
          "height": 486
        },
        "outputId": "1aa6dd3f-a018-40d5-a1b6-03378910f6a6"
      },
      "cell_type": "code",
      "source": [
        "plt.hist(x='Age',data=df,bins=50)"
      ],
      "execution_count": 9,
      "outputs": [
        {
          "output_type": "execute_result",
          "data": {
            "text/plain": [
              "(array([25.,  7., 17.,  3., 11.,  8.,  6.,  4.,  8., 25., 16., 69., 58.,\n",
              "        39., 60., 25., 47., 64., 35., 40., 19., 39., 36., 12., 36., 11.,\n",
              "        24.,  9., 22., 22.,  8., 17.,  6., 10.,  8.,  3.,  7.,  5.,  8.,\n",
              "         5.,  3.,  2.,  0.,  3.,  3.,  0.,  1.,  0.,  0.,  1.]),\n",
              " array([ 0.42  ,  2.0116,  3.6032,  5.1948,  6.7864,  8.378 ,  9.9696,\n",
              "        11.5612, 13.1528, 14.7444, 16.336 , 17.9276, 19.5192, 21.1108,\n",
              "        22.7024, 24.294 , 25.8856, 27.4772, 29.0688, 30.6604, 32.252 ,\n",
              "        33.8436, 35.4352, 37.0268, 38.6184, 40.21  , 41.8016, 43.3932,\n",
              "        44.9848, 46.5764, 48.168 , 49.7596, 51.3512, 52.9428, 54.5344,\n",
              "        56.126 , 57.7176, 59.3092, 60.9008, 62.4924, 64.084 , 65.6756,\n",
              "        67.2672, 68.8588, 70.4504, 72.042 , 73.6336, 75.2252, 76.8168,\n",
              "        78.4084, 80.    ]),\n",
              " <a list of 50 Patch objects>)"
            ]
          },
          "metadata": {
            "tags": []
          },
          "execution_count": 9
        },
        {
          "output_type": "display_data",
          "data": {
            "image/png": "[encoded data removed]",
            "text/plain": [
              "<matplotlib.figure.Figure at 0x7f75ea7bb7b8>"
            ]
          },
          "metadata": {
            "tags": []
          }
        }
      ]
    },
    {
      "metadata": {
        "id": "Mn5YnWqN3Cbq",
        "colab_type": "code",
        "colab": {}
      },
      "cell_type": "code",
      "source": [
        "from sklearn import preprocessing"
      ],
      "execution_count": 0,
      "outputs": []
    },
    {
      "metadata": {
        "id": "oNxtmBfH2mTo",
        "colab_type": "code",
        "colab": {
          "base_uri": "https://localhost:8080/",
          "height": 163
        },
        "outputId": "e8ffee3a-ea50-4b7e-d7e6-4afcce1dda85"
      },
      "cell_type": "code",
      "source": [
        "log_transformed.hist(figsize = (8,8),bins=50)\n"
      ],
      "execution_count": 40,
      "outputs": [
        {
          "output_type": "error",
          "ename": "NameError",
          "evalue": "ignored",
          "traceback": [
            "\u001b[0;31m---------------------------------------------------------------------------\u001b[0m",
            "\u001b[0;31mNameError\u001b[0m                                 Traceback (most recent call last)",
            "\u001b[0;32m<ipython-input-40-2d561dfe4e7c>\u001b[0m in \u001b[0;36m<module>\u001b[0;34m()\u001b[0m\n\u001b[0;32m----> 1\u001b[0;31m \u001b[0mlog_transformed\u001b[0m\u001b[0;34m.\u001b[0m\u001b[0mhist\u001b[0m\u001b[0;34m(\u001b[0m\u001b[0mfigsize\u001b[0m \u001b[0;34m=\u001b[0m \u001b[0;34m(\u001b[0m\u001b[0;36m8\u001b[0m\u001b[0;34m,\u001b[0m\u001b[0;36m8\u001b[0m\u001b[0;34m)\u001b[0m\u001b[0;34m,\u001b[0m\u001b[0mbins\u001b[0m\u001b[0;34m=\u001b[0m\u001b[0;36m50\u001b[0m\u001b[0;34m)\u001b[0m\u001b[0;34m\u001b[0m\u001b[0m\n\u001b[0m",
            "\u001b[0;31mNameError\u001b[0m: name 'log_transformed' is not defined"
          ]
        }
      ]
    },
    {
      "metadata": {
        "id": "0xRet-utn97M",
        "colab_type": "text"
      },
      "cell_type": "markdown",
      "source": [
        "This ia also Univariant Analysis.\n",
        "1.Mostly people are between  20 to 30 year.\n",
        "2.outliers are occur.\n",
        "3.this is bar plot"
      ]
    },
    {
      "metadata": {
        "id": "iCnP7KcfmSea",
        "colab_type": "text"
      },
      "cell_type": "markdown",
      "source": [
        ""
      ]
    },
    {
      "metadata": {
        "id": "Nn6KeW8xdYmy",
        "colab_type": "code",
        "colab": {
          "base_uri": "https://localhost:8080/",
          "height": 330
        },
        "outputId": "b368da80-e602-4058-e9e9-a361a6f8ad26"
      },
      "cell_type": "code",
      "source": [
        "sns.boxplot(df['Age'],data=df)"
      ],
      "execution_count": 27,
      "outputs": [
        {
          "output_type": "stream",
          "text": [
            "/usr/local/lib/python3.6/dist-packages/seaborn/categorical.py:454: FutureWarning: remove_na is deprecated and is a private function. Do not use.\n",
            "  box_data = remove_na(group_data)\n"
          ],
          "name": "stderr"
        },
        {
          "output_type": "execute_result",
          "data": {
            "text/plain": [
              "<matplotlib.axes._subplots.AxesSubplot at 0x7feb3dd075c0>"
            ]
          },
          "metadata": {
            "tags": []
          },
          "execution_count": 27
        },
        {
          "output_type": "display_data",
          "data": {
            "image/png": "[encoded data removed]",
            "text/plain": [
              "<matplotlib.figure.Figure at 0x7feb3da66e80>"
            ]
          },
          "metadata": {
            "tags": []
          }
        }
      ]
    },
    {
      "metadata": {
        "id": "kMYSzv1h19uq",
        "colab_type": "code",
        "colab": {}
      },
      "cell_type": "code",
      "source": [
        ""
      ],
      "execution_count": 0,
      "outputs": []
    },
    {
      "metadata": {
        "id": "bsvqZ5ws7P5i",
        "colab_type": "code",
        "colab": {
          "base_uri": "https://localhost:8080/",
          "height": 235
        },
        "outputId": "5c7671d5-c0d5-4221-a723-65b1a857e86b"
      },
      "cell_type": "code",
      "source": [
        "df.corr()"
      ],
      "execution_count": 28,
      "outputs": [
        {
          "output_type": "execute_result",
          "data": {
            "text/html": [
              "<div>\n",
              "<style scoped>\n",
              "    .dataframe tbody tr th:only-of-type {\n",
              "        vertical-align: middle;\n",
              "    }\n",
              "\n",
              "    .dataframe tbody tr th {\n",
              "        vertical-align: top;\n",
              "    }\n",
              "\n",
              "    .dataframe thead th {\n",
              "        text-align: right;\n",
              "    }\n",
              "</style>\n",
              "<table border=\"1\" class=\"dataframe\">\n",
              "  <thead>\n",
              "    <tr style=\"text-align: right;\">\n",
              "      <th></th>\n",
              "      <th>Survived</th>\n",
              "      <th>Pclass</th>\n",
              "      <th>Age</th>\n",
              "      <th>Siblings/Spouses Aboard</th>\n",
              "      <th>Parents/Children Aboard</th>\n",
              "      <th>Fare</th>\n",
              "    </tr>\n",
              "  </thead>\n",
              "  <tbody>\n",
              "    <tr>\n",
              "      <th>Survived</th>\n",
              "      <td>1.000000</td>\n",
              "      <td>-0.336528</td>\n",
              "      <td>-0.059665</td>\n",
              "      <td>-0.037082</td>\n",
              "      <td>0.080097</td>\n",
              "      <td>0.256179</td>\n",
              "    </tr>\n",
              "    <tr>\n",
              "      <th>Pclass</th>\n",
              "      <td>-0.336528</td>\n",
              "      <td>1.000000</td>\n",
              "      <td>-0.391492</td>\n",
              "      <td>0.085026</td>\n",
              "      <td>0.020252</td>\n",
              "      <td>-0.548919</td>\n",
              "    </tr>\n",
              "    <tr>\n",
              "      <th>Age</th>\n",
              "      <td>-0.059665</td>\n",
              "      <td>-0.391492</td>\n",
              "      <td>1.000000</td>\n",
              "      <td>-0.297669</td>\n",
              "      <td>-0.193741</td>\n",
              "      <td>0.112329</td>\n",
              "    </tr>\n",
              "    <tr>\n",
              "      <th>Siblings/Spouses Aboard</th>\n",
              "      <td>-0.037082</td>\n",
              "      <td>0.085026</td>\n",
              "      <td>-0.297669</td>\n",
              "      <td>1.000000</td>\n",
              "      <td>0.414244</td>\n",
              "      <td>0.158839</td>\n",
              "    </tr>\n",
              "    <tr>\n",
              "      <th>Parents/Children Aboard</th>\n",
              "      <td>0.080097</td>\n",
              "      <td>0.020252</td>\n",
              "      <td>-0.193741</td>\n",
              "      <td>0.414244</td>\n",
              "      <td>1.000000</td>\n",
              "      <td>0.215470</td>\n",
              "    </tr>\n",
              "    <tr>\n",
              "      <th>Fare</th>\n",
              "      <td>0.256179</td>\n",
              "      <td>-0.548919</td>\n",
              "      <td>0.112329</td>\n",
              "      <td>0.158839</td>\n",
              "      <td>0.215470</td>\n",
              "      <td>1.000000</td>\n",
              "    </tr>\n",
              "  </tbody>\n",
              "</table>\n",
              "</div>"
            ],
            "text/plain": [
              "                         Survived    Pclass       Age  \\\n",
              "Survived                 1.000000 -0.336528 -0.059665   \n",
              "Pclass                  -0.336528  1.000000 -0.391492   \n",
              "Age                     -0.059665 -0.391492  1.000000   \n",
              "Siblings/Spouses Aboard -0.037082  0.085026 -0.297669   \n",
              "Parents/Children Aboard  0.080097  0.020252 -0.193741   \n",
              "Fare                     0.256179 -0.548919  0.112329   \n",
              "\n",
              "                         Siblings/Spouses Aboard  Parents/Children Aboard  \\\n",
              "Survived                               -0.037082                 0.080097   \n",
              "Pclass                                  0.085026                 0.020252   \n",
              "Age                                    -0.297669                -0.193741   \n",
              "Siblings/Spouses Aboard                 1.000000                 0.414244   \n",
              "Parents/Children Aboard                 0.414244                 1.000000   \n",
              "Fare                                    0.158839                 0.215470   \n",
              "\n",
              "                             Fare  \n",
              "Survived                 0.256179  \n",
              "Pclass                  -0.548919  \n",
              "Age                      0.112329  \n",
              "Siblings/Spouses Aboard  0.158839  \n",
              "Parents/Children Aboard  0.215470  \n",
              "Fare                     1.000000  "
            ]
          },
          "metadata": {
            "tags": []
          },
          "execution_count": 28
        }
      ]
    },
    {
      "metadata": {
        "id": "X4xSHc4z-8zf",
        "colab_type": "code",
        "colab": {
          "base_uri": "https://localhost:8080/",
          "height": 383
        },
        "outputId": "d4c2412a-776f-451c-f77d-e66b3a8c3efd"
      },
      "cell_type": "code",
      "source": [
        "sns.heatmap(df.corr(),annot=True)"
      ],
      "execution_count": 29,
      "outputs": [
        {
          "output_type": "execute_result",
          "data": {
            "text/plain": [
              "<matplotlib.axes._subplots.AxesSubplot at 0x7feb3d88a320>"
            ]
          },
          "metadata": {
            "tags": []
          },
          "execution_count": 29
        },
        {
          "output_type": "display_data",
          "data": {
            "image/png": "[encoded data removed]",
            "text/plain": [
              "<matplotlib.figure.Figure at 0x7feb3d984c18>"
            ]
          },
          "metadata": {
            "tags": []
          }
        }
      ]
    },
    {
      "metadata": {
        "id": "RkuFWC63pAcW",
        "colab_type": "text"
      },
      "cell_type": "markdown",
      "source": [
        "## Bivariante Analysis ##\n",
        "1.In which we use two variables.\n",
        "2.this is bar plot.\n",
        "3.if the parent childre increase fare is also increase."
      ]
    },
    {
      "metadata": {
        "id": "zEoIvAYQ_P6I",
        "colab_type": "code",
        "colab": {
          "base_uri": "https://localhost:8080/",
          "height": 296
        },
        "outputId": "4ccf8928-783b-46fc-f9b5-59f1f6f1f480"
      },
      "cell_type": "code",
      "source": [
        "sns.regplot(x='Parents/Children Aboard',y='Fare',data=df,x_jitter=0.3,scatter_kws={'alpha':0.2})"
      ],
      "execution_count": 30,
      "outputs": [
        {
          "output_type": "execute_result",
          "data": {
            "text/plain": [
              "<matplotlib.axes._subplots.AxesSubplot at 0x7feb3dcb1080>"
            ]
          },
          "metadata": {
            "tags": []
          },
          "execution_count": 30
        },
        {
          "output_type": "display_data",
          "data": {
            "image/png": "[encoded data removed]",
            "text/plain": [
              "<matplotlib.figure.Figure at 0x7feb3d889128>"
            ]
          },
          "metadata": {
            "tags": []
          }
        }
      ]
    },
    {
      "metadata": {
        "id": "cLWrcRTUA8pn",
        "colab_type": "code",
        "colab": {
          "base_uri": "https://localhost:8080/",
          "height": 343
        },
        "outputId": "77609b68-9cd0-49a0-a9cf-a05950a50620"
      },
      "cell_type": "code",
      "source": [
        "!pip install ggplot"
      ],
      "execution_count": 31,
      "outputs": [
        {
          "output_type": "stream",
          "text": [
            "Collecting ggplot\n",
            "\u001b[?25l  Downloading https://files.pythonhosted.org/packages/48/04/5c88cc51c6713583f2dc78a5296adb9741505348c323d5875bc976143db2/ggplot-0.11.5-py2.py3-none-any.whl (2.2MB)\n",
            "\u001b[K    100% |████████████████████████████████| 2.2MB 7.2MB/s \n",
            "\u001b[?25hRequirement already satisfied: numpy in /usr/local/lib/python3.6/dist-packages (from ggplot) (1.14.3)\n",
            "Requirement already satisfied: matplotlib in /usr/local/lib/python3.6/dist-packages (from ggplot) (2.1.2)\n",
            "Requirement already satisfied: six in /usr/local/lib/python3.6/dist-packages (from ggplot) (1.11.0)\n",
            "Requirement already satisfied: patsy>=0.4 in /usr/local/lib/python3.6/dist-packages (from ggplot) (0.5.0)\n",
            "Requirement already satisfied: statsmodels in /usr/local/lib/python3.6/dist-packages (from ggplot) (0.8.0)\n",
            "Collecting brewer2mpl (from ggplot)\n",
            "  Downloading https://files.pythonhosted.org/packages/84/57/00c45a199719e617db0875181134fcb3aeef701deae346547ac722eaaf5e/brewer2mpl-1.4.1-py2.py3-none-any.whl\n",
            "Requirement already satisfied: cycler in /usr/local/lib/python3.6/dist-packages (from ggplot) (0.10.0)\n",
            "Requirement already satisfied: pandas in /usr/local/lib/python3.6/dist-packages (from ggplot) (0.22.0)\n",
            "Requirement already satisfied: scipy in /usr/local/lib/python3.6/dist-packages (from ggplot) (0.19.1)\n",
            "Requirement already satisfied: pytz in /usr/local/lib/python3.6/dist-packages (from matplotlib->ggplot) (2018.4)\n",
            "Requirement already satisfied: pyparsing!=2.0.4,!=2.1.2,!=2.1.6,>=2.0.1 in /usr/local/lib/python3.6/dist-packages (from matplotlib->ggplot) (2.2.0)\n",
            "Requirement already satisfied: python-dateutil>=2.1 in /usr/local/lib/python3.6/dist-packages (from matplotlib->ggplot) (2.5.3)\n",
            "Installing collected packages: brewer2mpl, ggplot\n",
            "Successfully installed brewer2mpl-1.4.1 ggplot-0.11.5\n"
          ],
          "name": "stdout"
        }
      ]
    },
    {
      "metadata": {
        "id": "31MC9VpDHn7v",
        "colab_type": "code",
        "colab": {
          "base_uri": "https://localhost:8080/",
          "height": 296
        },
        "outputId": "a90dc8a2-c46b-44f8-b4d8-6c36c3c14a13"
      },
      "cell_type": "code",
      "source": [
        "sns.regplot(x='Age',y='Fare',data=df,scatter_kws={'alpha':0.1})"
      ],
      "execution_count": 32,
      "outputs": [
        {
          "output_type": "execute_result",
          "data": {
            "text/plain": [
              "<matplotlib.axes._subplots.AxesSubplot at 0x7feb3dcb1550>"
            ]
          },
          "metadata": {
            "tags": []
          },
          "execution_count": 32
        },
        {
          "output_type": "display_data",
          "data": {
            "image/png": "[encoded data removed]",
            "text/plain": [
              "<matplotlib.figure.Figure at 0x7feb3d7dd4e0>"
            ]
          },
          "metadata": {
            "tags": []
          }
        }
      ]
    },
    {
      "metadata": {
        "id": "teWJ4x1urizl",
        "colab_type": "text"
      },
      "cell_type": "markdown",
      "source": [
        "This is also Bivariant Analysis.\n",
        "1.Here we use two variable.\n",
        "2.Here we see  survived person according to age.\n",
        "3.this is boxplot"
      ]
    },
    {
      "metadata": {
        "id": "sxeCEqdMOldI",
        "colab_type": "code",
        "colab": {}
      },
      "cell_type": "code",
      "source": [
        ""
      ],
      "execution_count": 0,
      "outputs": []
    },
    {
      "metadata": {
        "id": "2BEoT_hPRDT7",
        "colab_type": "code",
        "colab": {
          "base_uri": "https://localhost:8080/",
          "height": 330
        },
        "outputId": "a0a3a175-f590-4d0a-a9e2-52d41b60a85c"
      },
      "cell_type": "code",
      "source": [
        "sns.boxplot(x='Survived',y='Age',hue='Sex',data=df)"
      ],
      "execution_count": 34,
      "outputs": [
        {
          "output_type": "stream",
          "text": [
            "/usr/local/lib/python3.6/dist-packages/seaborn/categorical.py:482: FutureWarning: remove_na is deprecated and is a private function. Do not use.\n",
            "  box_data = remove_na(group_data[hue_mask])\n"
          ],
          "name": "stderr"
        },
        {
          "output_type": "execute_result",
          "data": {
            "text/plain": [
              "<matplotlib.axes._subplots.AxesSubplot at 0x7feb3d0ab9e8>"
            ]
          },
          "metadata": {
            "tags": []
          },
          "execution_count": 34
        },
        {
          "output_type": "display_data",
          "data": {
            "image/png": "[encoded data removed]",
            "text/plain": [
              "<matplotlib.figure.Figure at 0x7feb3dd65780>"
            ]
          },
          "metadata": {
            "tags": []
          }
        }
      ]
    },
    {
      "metadata": {
        "id": "m1CNV3XVsfsQ",
        "colab_type": "text"
      },
      "cell_type": "markdown",
      "source": [
        "This is Bivariante Analysis.\n",
        "1.This violinplot.\n",
        "2.Here we show which is survived or not."
      ]
    },
    {
      "metadata": {
        "id": "Sb2lPXDrSMLz",
        "colab_type": "code",
        "colab": {
          "base_uri": "https://localhost:8080/",
          "height": 364
        },
        "outputId": "2c197336-2cf6-4dcc-e752-9685a2a71503"
      },
      "cell_type": "code",
      "source": [
        "sns.violinplot(x='Survived',y='Age',hue='Sex',data=df)"
      ],
      "execution_count": 35,
      "outputs": [
        {
          "output_type": "stream",
          "text": [
            "/usr/local/lib/python3.6/dist-packages/seaborn/categorical.py:637: FutureWarning: remove_na is deprecated and is a private function. Do not use.\n",
            "  kde_data = remove_na(group_data[hue_mask])\n",
            "/usr/local/lib/python3.6/dist-packages/seaborn/categorical.py:932: FutureWarning: remove_na is deprecated and is a private function. Do not use.\n",
            "  violin_data = remove_na(group_data[hue_mask])\n"
          ],
          "name": "stderr"
        },
        {
          "output_type": "execute_result",
          "data": {
            "text/plain": [
              "<matplotlib.axes._subplots.AxesSubplot at 0x7feb3d0637f0>"
            ]
          },
          "metadata": {
            "tags": []
          },
          "execution_count": 35
        },
        {
          "output_type": "display_data",
          "data": {
            "image/png": "[encoded data removed]",
            "text/plain": [
              "<matplotlib.figure.Figure at 0x7feb3d0ab828>"
            ]
          },
          "metadata": {
            "tags": []
          }
        }
      ]
    },
    {
      "metadata": {
        "id": "8jwsmga9UAY3",
        "colab_type": "code",
        "colab": {
          "base_uri": "https://localhost:8080/",
          "height": 398
        },
        "outputId": "19cbfb92-95ad-402f-aff8-798d332560fc"
      },
      "cell_type": "code",
      "source": [
        "sns.violinplot(x='Survived',y='Age',hue='Sex',data=df,split='True')"
      ],
      "execution_count": 17,
      "outputs": [
        {
          "output_type": "stream",
          "text": [
            "/usr/local/lib/python3.6/dist-packages/seaborn/categorical.py:637: FutureWarning: remove_na is deprecated and is a private function. Do not use.\n",
            "  kde_data = remove_na(group_data[hue_mask])\n",
            "/usr/local/lib/python3.6/dist-packages/seaborn/categorical.py:885: FutureWarning: remove_na is deprecated and is a private function. Do not use.\n",
            "  violin_data = remove_na(group_data[hue_mask])\n",
            "/usr/local/lib/python3.6/dist-packages/seaborn/categorical.py:905: FutureWarning: remove_na is deprecated and is a private function. Do not use.\n",
            "  violin_data = remove_na(group_data)\n"
          ],
          "name": "stderr"
        },
        {
          "output_type": "execute_result",
          "data": {
            "text/plain": [
              "<matplotlib.axes._subplots.AxesSubplot at 0x7feb3dd65d68>"
            ]
          },
          "metadata": {
            "tags": []
          },
          "execution_count": 17
        },
        {
          "output_type": "display_data",
          "data": {
            "image/png": "[encoded data removed]",
            "text/plain": [
              "<matplotlib.figure.Figure at 0x7feb3dec2a58>"
            ]
          },
          "metadata": {
            "tags": []
          }
        }
      ]
    },
    {
      "metadata": {
        "id": "AMzaWagxUT0T",
        "colab_type": "code",
        "colab": {
          "base_uri": "https://localhost:8080/",
          "height": 313
        },
        "outputId": "ab704a96-011b-447e-caca-a558d1f0ba56"
      },
      "cell_type": "code",
      "source": [
        "sns.barplot(x=\"Sex\", y=\"Survived\", hue=\"Pclass\", data=df);\n"
      ],
      "execution_count": 21,
      "outputs": [
        {
          "output_type": "stream",
          "text": [
            "/usr/local/lib/python3.6/dist-packages/seaborn/categorical.py:1468: FutureWarning: remove_na is deprecated and is a private function. Do not use.\n",
            "  stat_data = remove_na(group_data[hue_mask])\n"
          ],
          "name": "stderr"
        },
        {
          "output_type": "display_data",
          "data": {
            "image/png": "[encoded data removed]",
            "text/plain": [
              "<matplotlib.figure.Figure at 0x7feb3dfe8ef0>"
            ]
          },
          "metadata": {
            "tags": []
          }
        }
      ]
    },
    {
      "metadata": {
        "id": "lB0YxQBktk-P",
        "colab_type": "text"
      },
      "cell_type": "markdown",
      "source": [
        "##Multivariante Analysis ##\n",
        "1.Here we plot graph fare vs survived according to class.\n"
      ]
    },
    {
      "metadata": {
        "id": "DT2whLvEVgLM",
        "colab_type": "code",
        "colab": {
          "base_uri": "https://localhost:8080/",
          "height": 242
        },
        "outputId": "80741bba-4b4c-46f9-a345-fbdc06e50afc"
      },
      "cell_type": "code",
      "source": [
        "grid=sns.FacetGrid(df,col='Pclass')\n",
        "grid.map(plt.scatter,'Survived','Fare',alpha=0.2)"
      ],
      "execution_count": 40,
      "outputs": [
        {
          "output_type": "execute_result",
          "data": {
            "text/plain": [
              "<seaborn.axisgrid.FacetGrid at 0x7feb3cf1c160>"
            ]
          },
          "metadata": {
            "tags": []
          },
          "execution_count": 40
        },
        {
          "output_type": "display_data",
          "data": {
            "image/png": "[encoded data removed]",
            "text/plain": [
              "<matplotlib.figure.Figure at 0x7feb3caaaba8>"
            ]
          },
          "metadata": {
            "tags": []
          }
        }
      ]
    },
    {
      "metadata": {
        "id": "BlnXe5ooX1Ki",
        "colab_type": "code",
        "colab": {}
      },
      "cell_type": "code",
      "source": [
        ""
      ],
      "execution_count": 0,
      "outputs": []
    }
  ]
}