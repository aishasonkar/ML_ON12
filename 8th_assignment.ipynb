{
  "nbformat": 4,
  "nbformat_minor": 0,
  "metadata": {
    "colab": {
      "name": "Untitled6.ipynb",
      "version": "0.3.2",
      "provenance": [],
      "collapsed_sections": []
    },
    "kernelspec": {
      "name": "python3",
      "display_name": "Python 3"
    }
  },
  "cells": [
    {
      "cell_type": "markdown",
      "metadata": {
        "id": "view-in-github",
        "colab_type": "text"
      },
      "source": [
        "[View in Colaboratory](https://colab.research.google.com/github/aishasonkar/ML_ON12/blob/master/8th_assignment.ipynb)"
      ]
    },
    {
      "metadata": {
        "id": "hUx5ViyttUKC",
        "colab_type": "code",
        "colab": {}
      },
      "cell_type": "code",
      "source": [
        "import pandas as pd\n",
        "import seaborn as sns\n",
        "import matplotlib.pyplot as plt\n",
        "%matplotlib inline"
      ],
      "execution_count": 0,
      "outputs": []
    },
    {
      "metadata": {
        "id": "Vzgiy6vmub2E",
        "colab_type": "text"
      },
      "cell_type": "markdown",
      "source": [
        ""
      ]
    },
    {
      "metadata": {
        "id": "4XqZkeQuueUZ",
        "colab_type": "text"
      },
      "cell_type": "markdown",
      "source": [
        "Explorarory Data Analysis on WineDataset\n",
        "\n",
        "\n",
        "```\n",
        "`# This is formatted as code`\n",
        "```\n",
        "\n",
        "# New Section"
      ]
    },
    {
      "metadata": {
        "id": "6ZkgxBqRvHjk",
        "colab_type": "text"
      },
      "cell_type": "markdown",
      "source": [
        "##Description of Datase ##\n",
        "\n",
        "1.Shape of data\n",
        "2. size of data\n",
        "3.Purpose of data\n"
      ]
    },
    {
      "metadata": {
        "id": "X0DtLbhLtZRE",
        "colab_type": "text"
      },
      "cell_type": "markdown",
      "source": [
        "\n",
        "\n",
        "\n",
        "\n",
        "\n",
        "\n"
      ]
    },
    {
      "metadata": {
        "id": "MOsf9uDdxTOs",
        "colab_type": "code",
        "colab": {}
      },
      "cell_type": "code",
      "source": [
        ""
      ],
      "execution_count": 0,
      "outputs": []
    },
    {
      "metadata": {
        "id": "1PH4UiYxuBNe",
        "colab_type": "text"
      },
      "cell_type": "markdown",
      "source": [
        ""
      ]
    },
    {
      "metadata": {
        "id": "tKsC3w7KtWBD",
        "colab_type": "code",
        "colab": {}
      },
      "cell_type": "code",
      "source": [
        "df=pd.read_csv('https://raw.githubusercontent.com/Shreyas3108/May28thMLbatcj/master/wineQualityWhites.csv')"
      ],
      "execution_count": 0,
      "outputs": []
    },
    {
      "metadata": {
        "id": "sNs1wvhfwdeH",
        "colab_type": "code",
        "colab": {
          "base_uri": "https://localhost:8080/",
          "height": 2006
        },
        "outputId": "37b79fe1-d31e-4787-cff4-200dd3324209"
      },
      "cell_type": "code",
      "source": [
        "df"
      ],
      "execution_count": 13,
      "outputs": [
        {
          "output_type": "execute_result",
          "data": {
            "text/html": [
              "<div>\n",
              "<style scoped>\n",
              "    .dataframe tbody tr th:only-of-type {\n",
              "        vertical-align: middle;\n",
              "    }\n",
              "\n",
              "    .dataframe tbody tr th {\n",
              "        vertical-align: top;\n",
              "    }\n",
              "\n",
              "    .dataframe thead th {\n",
              "        text-align: right;\n",
              "    }\n",
              "</style>\n",
              "<table border=\"1\" class=\"dataframe\">\n",
              "  <thead>\n",
              "    <tr style=\"text-align: right;\">\n",
              "      <th></th>\n",
              "      <th>Unnamed: 0</th>\n",
              "      <th>fixed.acidity</th>\n",
              "      <th>volatile.acidity</th>\n",
              "      <th>citric.acid</th>\n",
              "      <th>residual.sugar</th>\n",
              "      <th>chlorides</th>\n",
              "      <th>free.sulfur.dioxide</th>\n",
              "      <th>total.sulfur.dioxide</th>\n",
              "      <th>density</th>\n",
              "      <th>pH</th>\n",
              "      <th>sulphates</th>\n",
              "      <th>alcohol</th>\n",
              "      <th>quality</th>\n",
              "    </tr>\n",
              "  </thead>\n",
              "  <tbody>\n",
              "    <tr>\n",
              "      <th>0</th>\n",
              "      <td>1</td>\n",
              "      <td>7.0</td>\n",
              "      <td>0.270</td>\n",
              "      <td>0.36</td>\n",
              "      <td>20.70</td>\n",
              "      <td>0.045</td>\n",
              "      <td>45.0</td>\n",
              "      <td>170.0</td>\n",
              "      <td>1.00100</td>\n",
              "      <td>3.00</td>\n",
              "      <td>0.45</td>\n",
              "      <td>8.800000</td>\n",
              "      <td>6</td>\n",
              "    </tr>\n",
              "    <tr>\n",
              "      <th>1</th>\n",
              "      <td>2</td>\n",
              "      <td>6.3</td>\n",
              "      <td>0.300</td>\n",
              "      <td>0.34</td>\n",
              "      <td>1.60</td>\n",
              "      <td>0.049</td>\n",
              "      <td>14.0</td>\n",
              "      <td>132.0</td>\n",
              "      <td>0.99400</td>\n",
              "      <td>3.30</td>\n",
              "      <td>0.49</td>\n",
              "      <td>9.500000</td>\n",
              "      <td>6</td>\n",
              "    </tr>\n",
              "    <tr>\n",
              "      <th>2</th>\n",
              "      <td>3</td>\n",
              "      <td>8.1</td>\n",
              "      <td>0.280</td>\n",
              "      <td>0.40</td>\n",
              "      <td>6.90</td>\n",
              "      <td>0.050</td>\n",
              "      <td>30.0</td>\n",
              "      <td>97.0</td>\n",
              "      <td>0.99510</td>\n",
              "      <td>3.26</td>\n",
              "      <td>0.44</td>\n",
              "      <td>10.100000</td>\n",
              "      <td>6</td>\n",
              "    </tr>\n",
              "    <tr>\n",
              "      <th>3</th>\n",
              "      <td>4</td>\n",
              "      <td>7.2</td>\n",
              "      <td>0.230</td>\n",
              "      <td>0.32</td>\n",
              "      <td>8.50</td>\n",
              "      <td>0.058</td>\n",
              "      <td>47.0</td>\n",
              "      <td>186.0</td>\n",
              "      <td>0.99560</td>\n",
              "      <td>3.19</td>\n",
              "      <td>0.40</td>\n",
              "      <td>9.900000</td>\n",
              "      <td>6</td>\n",
              "    </tr>\n",
              "    <tr>\n",
              "      <th>4</th>\n",
              "      <td>5</td>\n",
              "      <td>7.2</td>\n",
              "      <td>0.230</td>\n",
              "      <td>0.32</td>\n",
              "      <td>8.50</td>\n",
              "      <td>0.058</td>\n",
              "      <td>47.0</td>\n",
              "      <td>186.0</td>\n",
              "      <td>0.99560</td>\n",
              "      <td>3.19</td>\n",
              "      <td>0.40</td>\n",
              "      <td>9.900000</td>\n",
              "      <td>6</td>\n",
              "    </tr>\n",
              "    <tr>\n",
              "      <th>5</th>\n",
              "      <td>6</td>\n",
              "      <td>8.1</td>\n",
              "      <td>0.280</td>\n",
              "      <td>0.40</td>\n",
              "      <td>6.90</td>\n",
              "      <td>0.050</td>\n",
              "      <td>30.0</td>\n",
              "      <td>97.0</td>\n",
              "      <td>0.99510</td>\n",
              "      <td>3.26</td>\n",
              "      <td>0.44</td>\n",
              "      <td>10.100000</td>\n",
              "      <td>6</td>\n",
              "    </tr>\n",
              "    <tr>\n",
              "      <th>6</th>\n",
              "      <td>7</td>\n",
              "      <td>6.2</td>\n",
              "      <td>0.320</td>\n",
              "      <td>0.16</td>\n",
              "      <td>7.00</td>\n",
              "      <td>0.045</td>\n",
              "      <td>30.0</td>\n",
              "      <td>136.0</td>\n",
              "      <td>0.99490</td>\n",
              "      <td>3.18</td>\n",
              "      <td>0.47</td>\n",
              "      <td>9.600000</td>\n",
              "      <td>6</td>\n",
              "    </tr>\n",
              "    <tr>\n",
              "      <th>7</th>\n",
              "      <td>8</td>\n",
              "      <td>7.0</td>\n",
              "      <td>0.270</td>\n",
              "      <td>0.36</td>\n",
              "      <td>20.70</td>\n",
              "      <td>0.045</td>\n",
              "      <td>45.0</td>\n",
              "      <td>170.0</td>\n",
              "      <td>1.00100</td>\n",
              "      <td>3.00</td>\n",
              "      <td>0.45</td>\n",
              "      <td>8.800000</td>\n",
              "      <td>6</td>\n",
              "    </tr>\n",
              "    <tr>\n",
              "      <th>8</th>\n",
              "      <td>9</td>\n",
              "      <td>6.3</td>\n",
              "      <td>0.300</td>\n",
              "      <td>0.34</td>\n",
              "      <td>1.60</td>\n",
              "      <td>0.049</td>\n",
              "      <td>14.0</td>\n",
              "      <td>132.0</td>\n",
              "      <td>0.99400</td>\n",
              "      <td>3.30</td>\n",
              "      <td>0.49</td>\n",
              "      <td>9.500000</td>\n",
              "      <td>6</td>\n",
              "    </tr>\n",
              "    <tr>\n",
              "      <th>9</th>\n",
              "      <td>10</td>\n",
              "      <td>8.1</td>\n",
              "      <td>0.220</td>\n",
              "      <td>0.43</td>\n",
              "      <td>1.50</td>\n",
              "      <td>0.044</td>\n",
              "      <td>28.0</td>\n",
              "      <td>129.0</td>\n",
              "      <td>0.99380</td>\n",
              "      <td>3.22</td>\n",
              "      <td>0.45</td>\n",
              "      <td>11.000000</td>\n",
              "      <td>6</td>\n",
              "    </tr>\n",
              "    <tr>\n",
              "      <th>10</th>\n",
              "      <td>11</td>\n",
              "      <td>8.1</td>\n",
              "      <td>0.270</td>\n",
              "      <td>0.41</td>\n",
              "      <td>1.45</td>\n",
              "      <td>0.033</td>\n",
              "      <td>11.0</td>\n",
              "      <td>63.0</td>\n",
              "      <td>0.99080</td>\n",
              "      <td>2.99</td>\n",
              "      <td>0.56</td>\n",
              "      <td>12.000000</td>\n",
              "      <td>5</td>\n",
              "    </tr>\n",
              "    <tr>\n",
              "      <th>11</th>\n",
              "      <td>12</td>\n",
              "      <td>8.6</td>\n",
              "      <td>0.230</td>\n",
              "      <td>0.40</td>\n",
              "      <td>4.20</td>\n",
              "      <td>0.035</td>\n",
              "      <td>17.0</td>\n",
              "      <td>109.0</td>\n",
              "      <td>0.99470</td>\n",
              "      <td>3.14</td>\n",
              "      <td>0.53</td>\n",
              "      <td>9.700000</td>\n",
              "      <td>5</td>\n",
              "    </tr>\n",
              "    <tr>\n",
              "      <th>12</th>\n",
              "      <td>13</td>\n",
              "      <td>7.9</td>\n",
              "      <td>0.180</td>\n",
              "      <td>0.37</td>\n",
              "      <td>1.20</td>\n",
              "      <td>0.040</td>\n",
              "      <td>16.0</td>\n",
              "      <td>75.0</td>\n",
              "      <td>0.99200</td>\n",
              "      <td>3.18</td>\n",
              "      <td>0.63</td>\n",
              "      <td>10.800000</td>\n",
              "      <td>5</td>\n",
              "    </tr>\n",
              "    <tr>\n",
              "      <th>13</th>\n",
              "      <td>14</td>\n",
              "      <td>6.6</td>\n",
              "      <td>0.160</td>\n",
              "      <td>0.40</td>\n",
              "      <td>1.50</td>\n",
              "      <td>0.044</td>\n",
              "      <td>48.0</td>\n",
              "      <td>143.0</td>\n",
              "      <td>0.99120</td>\n",
              "      <td>3.54</td>\n",
              "      <td>0.52</td>\n",
              "      <td>12.400000</td>\n",
              "      <td>7</td>\n",
              "    </tr>\n",
              "    <tr>\n",
              "      <th>14</th>\n",
              "      <td>15</td>\n",
              "      <td>8.3</td>\n",
              "      <td>0.420</td>\n",
              "      <td>0.62</td>\n",
              "      <td>19.25</td>\n",
              "      <td>0.040</td>\n",
              "      <td>41.0</td>\n",
              "      <td>172.0</td>\n",
              "      <td>1.00020</td>\n",
              "      <td>2.98</td>\n",
              "      <td>0.67</td>\n",
              "      <td>9.700000</td>\n",
              "      <td>5</td>\n",
              "    </tr>\n",
              "    <tr>\n",
              "      <th>15</th>\n",
              "      <td>16</td>\n",
              "      <td>6.6</td>\n",
              "      <td>0.170</td>\n",
              "      <td>0.38</td>\n",
              "      <td>1.50</td>\n",
              "      <td>0.032</td>\n",
              "      <td>28.0</td>\n",
              "      <td>112.0</td>\n",
              "      <td>0.99140</td>\n",
              "      <td>3.25</td>\n",
              "      <td>0.55</td>\n",
              "      <td>11.400000</td>\n",
              "      <td>7</td>\n",
              "    </tr>\n",
              "    <tr>\n",
              "      <th>16</th>\n",
              "      <td>17</td>\n",
              "      <td>6.3</td>\n",
              "      <td>0.480</td>\n",
              "      <td>0.04</td>\n",
              "      <td>1.10</td>\n",
              "      <td>0.046</td>\n",
              "      <td>30.0</td>\n",
              "      <td>99.0</td>\n",
              "      <td>0.99280</td>\n",
              "      <td>3.24</td>\n",
              "      <td>0.36</td>\n",
              "      <td>9.600000</td>\n",
              "      <td>6</td>\n",
              "    </tr>\n",
              "    <tr>\n",
              "      <th>17</th>\n",
              "      <td>18</td>\n",
              "      <td>6.2</td>\n",
              "      <td>0.660</td>\n",
              "      <td>0.48</td>\n",
              "      <td>1.20</td>\n",
              "      <td>0.029</td>\n",
              "      <td>29.0</td>\n",
              "      <td>75.0</td>\n",
              "      <td>0.98920</td>\n",
              "      <td>3.33</td>\n",
              "      <td>0.39</td>\n",
              "      <td>12.800000</td>\n",
              "      <td>8</td>\n",
              "    </tr>\n",
              "    <tr>\n",
              "      <th>18</th>\n",
              "      <td>19</td>\n",
              "      <td>7.4</td>\n",
              "      <td>0.340</td>\n",
              "      <td>0.42</td>\n",
              "      <td>1.10</td>\n",
              "      <td>0.033</td>\n",
              "      <td>17.0</td>\n",
              "      <td>171.0</td>\n",
              "      <td>0.99170</td>\n",
              "      <td>3.12</td>\n",
              "      <td>0.53</td>\n",
              "      <td>11.300000</td>\n",
              "      <td>6</td>\n",
              "    </tr>\n",
              "    <tr>\n",
              "      <th>19</th>\n",
              "      <td>20</td>\n",
              "      <td>6.5</td>\n",
              "      <td>0.310</td>\n",
              "      <td>0.14</td>\n",
              "      <td>7.50</td>\n",
              "      <td>0.044</td>\n",
              "      <td>34.0</td>\n",
              "      <td>133.0</td>\n",
              "      <td>0.99550</td>\n",
              "      <td>3.22</td>\n",
              "      <td>0.50</td>\n",
              "      <td>9.500000</td>\n",
              "      <td>5</td>\n",
              "    </tr>\n",
              "    <tr>\n",
              "      <th>20</th>\n",
              "      <td>21</td>\n",
              "      <td>6.2</td>\n",
              "      <td>0.660</td>\n",
              "      <td>0.48</td>\n",
              "      <td>1.20</td>\n",
              "      <td>0.029</td>\n",
              "      <td>29.0</td>\n",
              "      <td>75.0</td>\n",
              "      <td>0.98920</td>\n",
              "      <td>3.33</td>\n",
              "      <td>0.39</td>\n",
              "      <td>12.800000</td>\n",
              "      <td>8</td>\n",
              "    </tr>\n",
              "    <tr>\n",
              "      <th>21</th>\n",
              "      <td>22</td>\n",
              "      <td>6.4</td>\n",
              "      <td>0.310</td>\n",
              "      <td>0.38</td>\n",
              "      <td>2.90</td>\n",
              "      <td>0.038</td>\n",
              "      <td>19.0</td>\n",
              "      <td>102.0</td>\n",
              "      <td>0.99120</td>\n",
              "      <td>3.17</td>\n",
              "      <td>0.35</td>\n",
              "      <td>11.000000</td>\n",
              "      <td>7</td>\n",
              "    </tr>\n",
              "    <tr>\n",
              "      <th>22</th>\n",
              "      <td>23</td>\n",
              "      <td>6.8</td>\n",
              "      <td>0.260</td>\n",
              "      <td>0.42</td>\n",
              "      <td>1.70</td>\n",
              "      <td>0.049</td>\n",
              "      <td>41.0</td>\n",
              "      <td>122.0</td>\n",
              "      <td>0.99300</td>\n",
              "      <td>3.47</td>\n",
              "      <td>0.48</td>\n",
              "      <td>10.500000</td>\n",
              "      <td>8</td>\n",
              "    </tr>\n",
              "    <tr>\n",
              "      <th>23</th>\n",
              "      <td>24</td>\n",
              "      <td>7.6</td>\n",
              "      <td>0.670</td>\n",
              "      <td>0.14</td>\n",
              "      <td>1.50</td>\n",
              "      <td>0.074</td>\n",
              "      <td>25.0</td>\n",
              "      <td>168.0</td>\n",
              "      <td>0.99370</td>\n",
              "      <td>3.05</td>\n",
              "      <td>0.51</td>\n",
              "      <td>9.300000</td>\n",
              "      <td>5</td>\n",
              "    </tr>\n",
              "    <tr>\n",
              "      <th>24</th>\n",
              "      <td>25</td>\n",
              "      <td>6.6</td>\n",
              "      <td>0.270</td>\n",
              "      <td>0.41</td>\n",
              "      <td>1.30</td>\n",
              "      <td>0.052</td>\n",
              "      <td>16.0</td>\n",
              "      <td>142.0</td>\n",
              "      <td>0.99510</td>\n",
              "      <td>3.42</td>\n",
              "      <td>0.47</td>\n",
              "      <td>10.000000</td>\n",
              "      <td>6</td>\n",
              "    </tr>\n",
              "    <tr>\n",
              "      <th>25</th>\n",
              "      <td>26</td>\n",
              "      <td>7.0</td>\n",
              "      <td>0.250</td>\n",
              "      <td>0.32</td>\n",
              "      <td>9.00</td>\n",
              "      <td>0.046</td>\n",
              "      <td>56.0</td>\n",
              "      <td>245.0</td>\n",
              "      <td>0.99550</td>\n",
              "      <td>3.25</td>\n",
              "      <td>0.50</td>\n",
              "      <td>10.400000</td>\n",
              "      <td>6</td>\n",
              "    </tr>\n",
              "    <tr>\n",
              "      <th>26</th>\n",
              "      <td>27</td>\n",
              "      <td>6.9</td>\n",
              "      <td>0.240</td>\n",
              "      <td>0.35</td>\n",
              "      <td>1.00</td>\n",
              "      <td>0.052</td>\n",
              "      <td>35.0</td>\n",
              "      <td>146.0</td>\n",
              "      <td>0.99300</td>\n",
              "      <td>3.45</td>\n",
              "      <td>0.44</td>\n",
              "      <td>10.000000</td>\n",
              "      <td>6</td>\n",
              "    </tr>\n",
              "    <tr>\n",
              "      <th>27</th>\n",
              "      <td>28</td>\n",
              "      <td>7.0</td>\n",
              "      <td>0.280</td>\n",
              "      <td>0.39</td>\n",
              "      <td>8.70</td>\n",
              "      <td>0.051</td>\n",
              "      <td>32.0</td>\n",
              "      <td>141.0</td>\n",
              "      <td>0.99610</td>\n",
              "      <td>3.38</td>\n",
              "      <td>0.53</td>\n",
              "      <td>10.500000</td>\n",
              "      <td>6</td>\n",
              "    </tr>\n",
              "    <tr>\n",
              "      <th>28</th>\n",
              "      <td>29</td>\n",
              "      <td>7.4</td>\n",
              "      <td>0.270</td>\n",
              "      <td>0.48</td>\n",
              "      <td>1.10</td>\n",
              "      <td>0.047</td>\n",
              "      <td>17.0</td>\n",
              "      <td>132.0</td>\n",
              "      <td>0.99140</td>\n",
              "      <td>3.19</td>\n",
              "      <td>0.49</td>\n",
              "      <td>11.600000</td>\n",
              "      <td>6</td>\n",
              "    </tr>\n",
              "    <tr>\n",
              "      <th>29</th>\n",
              "      <td>30</td>\n",
              "      <td>7.2</td>\n",
              "      <td>0.320</td>\n",
              "      <td>0.36</td>\n",
              "      <td>2.00</td>\n",
              "      <td>0.033</td>\n",
              "      <td>37.0</td>\n",
              "      <td>114.0</td>\n",
              "      <td>0.99060</td>\n",
              "      <td>3.10</td>\n",
              "      <td>0.71</td>\n",
              "      <td>12.300000</td>\n",
              "      <td>7</td>\n",
              "    </tr>\n",
              "    <tr>\n",
              "      <th>...</th>\n",
              "      <td>...</td>\n",
              "      <td>...</td>\n",
              "      <td>...</td>\n",
              "      <td>...</td>\n",
              "      <td>...</td>\n",
              "      <td>...</td>\n",
              "      <td>...</td>\n",
              "      <td>...</td>\n",
              "      <td>...</td>\n",
              "      <td>...</td>\n",
              "      <td>...</td>\n",
              "      <td>...</td>\n",
              "      <td>...</td>\n",
              "    </tr>\n",
              "    <tr>\n",
              "      <th>4868</th>\n",
              "      <td>4869</td>\n",
              "      <td>5.8</td>\n",
              "      <td>0.230</td>\n",
              "      <td>0.31</td>\n",
              "      <td>4.50</td>\n",
              "      <td>0.046</td>\n",
              "      <td>42.0</td>\n",
              "      <td>124.0</td>\n",
              "      <td>0.99324</td>\n",
              "      <td>3.31</td>\n",
              "      <td>0.64</td>\n",
              "      <td>10.800000</td>\n",
              "      <td>6</td>\n",
              "    </tr>\n",
              "    <tr>\n",
              "      <th>4869</th>\n",
              "      <td>4870</td>\n",
              "      <td>6.6</td>\n",
              "      <td>0.240</td>\n",
              "      <td>0.33</td>\n",
              "      <td>10.10</td>\n",
              "      <td>0.032</td>\n",
              "      <td>8.0</td>\n",
              "      <td>81.0</td>\n",
              "      <td>0.99626</td>\n",
              "      <td>3.19</td>\n",
              "      <td>0.51</td>\n",
              "      <td>9.800000</td>\n",
              "      <td>6</td>\n",
              "    </tr>\n",
              "    <tr>\n",
              "      <th>4870</th>\n",
              "      <td>4871</td>\n",
              "      <td>6.1</td>\n",
              "      <td>0.320</td>\n",
              "      <td>0.28</td>\n",
              "      <td>6.60</td>\n",
              "      <td>0.021</td>\n",
              "      <td>29.0</td>\n",
              "      <td>132.0</td>\n",
              "      <td>0.99188</td>\n",
              "      <td>3.15</td>\n",
              "      <td>0.36</td>\n",
              "      <td>11.450000</td>\n",
              "      <td>7</td>\n",
              "    </tr>\n",
              "    <tr>\n",
              "      <th>4871</th>\n",
              "      <td>4872</td>\n",
              "      <td>5.0</td>\n",
              "      <td>0.200</td>\n",
              "      <td>0.40</td>\n",
              "      <td>1.90</td>\n",
              "      <td>0.015</td>\n",
              "      <td>20.0</td>\n",
              "      <td>98.0</td>\n",
              "      <td>0.98970</td>\n",
              "      <td>3.37</td>\n",
              "      <td>0.55</td>\n",
              "      <td>12.050000</td>\n",
              "      <td>6</td>\n",
              "    </tr>\n",
              "    <tr>\n",
              "      <th>4872</th>\n",
              "      <td>4873</td>\n",
              "      <td>6.0</td>\n",
              "      <td>0.420</td>\n",
              "      <td>0.41</td>\n",
              "      <td>12.40</td>\n",
              "      <td>0.032</td>\n",
              "      <td>50.0</td>\n",
              "      <td>179.0</td>\n",
              "      <td>0.99622</td>\n",
              "      <td>3.14</td>\n",
              "      <td>0.60</td>\n",
              "      <td>9.700000</td>\n",
              "      <td>5</td>\n",
              "    </tr>\n",
              "    <tr>\n",
              "      <th>4873</th>\n",
              "      <td>4874</td>\n",
              "      <td>5.7</td>\n",
              "      <td>0.210</td>\n",
              "      <td>0.32</td>\n",
              "      <td>1.60</td>\n",
              "      <td>0.030</td>\n",
              "      <td>33.0</td>\n",
              "      <td>122.0</td>\n",
              "      <td>0.99044</td>\n",
              "      <td>3.33</td>\n",
              "      <td>0.52</td>\n",
              "      <td>11.900000</td>\n",
              "      <td>6</td>\n",
              "    </tr>\n",
              "    <tr>\n",
              "      <th>4874</th>\n",
              "      <td>4875</td>\n",
              "      <td>5.6</td>\n",
              "      <td>0.200</td>\n",
              "      <td>0.36</td>\n",
              "      <td>2.50</td>\n",
              "      <td>0.048</td>\n",
              "      <td>16.0</td>\n",
              "      <td>125.0</td>\n",
              "      <td>0.99282</td>\n",
              "      <td>3.49</td>\n",
              "      <td>0.49</td>\n",
              "      <td>10.000000</td>\n",
              "      <td>6</td>\n",
              "    </tr>\n",
              "    <tr>\n",
              "      <th>4875</th>\n",
              "      <td>4876</td>\n",
              "      <td>7.4</td>\n",
              "      <td>0.220</td>\n",
              "      <td>0.26</td>\n",
              "      <td>1.20</td>\n",
              "      <td>0.035</td>\n",
              "      <td>18.0</td>\n",
              "      <td>97.0</td>\n",
              "      <td>0.99245</td>\n",
              "      <td>3.12</td>\n",
              "      <td>0.41</td>\n",
              "      <td>9.700000</td>\n",
              "      <td>6</td>\n",
              "    </tr>\n",
              "    <tr>\n",
              "      <th>4876</th>\n",
              "      <td>4877</td>\n",
              "      <td>6.2</td>\n",
              "      <td>0.380</td>\n",
              "      <td>0.42</td>\n",
              "      <td>2.50</td>\n",
              "      <td>0.038</td>\n",
              "      <td>34.0</td>\n",
              "      <td>117.0</td>\n",
              "      <td>0.99132</td>\n",
              "      <td>3.36</td>\n",
              "      <td>0.59</td>\n",
              "      <td>11.600000</td>\n",
              "      <td>7</td>\n",
              "    </tr>\n",
              "    <tr>\n",
              "      <th>4877</th>\n",
              "      <td>4878</td>\n",
              "      <td>5.9</td>\n",
              "      <td>0.540</td>\n",
              "      <td>0.00</td>\n",
              "      <td>0.80</td>\n",
              "      <td>0.032</td>\n",
              "      <td>12.0</td>\n",
              "      <td>82.0</td>\n",
              "      <td>0.99286</td>\n",
              "      <td>3.25</td>\n",
              "      <td>0.36</td>\n",
              "      <td>8.800000</td>\n",
              "      <td>5</td>\n",
              "    </tr>\n",
              "    <tr>\n",
              "      <th>4878</th>\n",
              "      <td>4879</td>\n",
              "      <td>6.2</td>\n",
              "      <td>0.530</td>\n",
              "      <td>0.02</td>\n",
              "      <td>0.90</td>\n",
              "      <td>0.035</td>\n",
              "      <td>6.0</td>\n",
              "      <td>81.0</td>\n",
              "      <td>0.99234</td>\n",
              "      <td>3.24</td>\n",
              "      <td>0.35</td>\n",
              "      <td>9.500000</td>\n",
              "      <td>4</td>\n",
              "    </tr>\n",
              "    <tr>\n",
              "      <th>4879</th>\n",
              "      <td>4880</td>\n",
              "      <td>6.6</td>\n",
              "      <td>0.340</td>\n",
              "      <td>0.40</td>\n",
              "      <td>8.10</td>\n",
              "      <td>0.046</td>\n",
              "      <td>68.0</td>\n",
              "      <td>170.0</td>\n",
              "      <td>0.99494</td>\n",
              "      <td>3.15</td>\n",
              "      <td>0.50</td>\n",
              "      <td>9.533333</td>\n",
              "      <td>6</td>\n",
              "    </tr>\n",
              "    <tr>\n",
              "      <th>4880</th>\n",
              "      <td>4881</td>\n",
              "      <td>6.6</td>\n",
              "      <td>0.340</td>\n",
              "      <td>0.40</td>\n",
              "      <td>8.10</td>\n",
              "      <td>0.046</td>\n",
              "      <td>68.0</td>\n",
              "      <td>170.0</td>\n",
              "      <td>0.99494</td>\n",
              "      <td>3.15</td>\n",
              "      <td>0.50</td>\n",
              "      <td>9.533333</td>\n",
              "      <td>6</td>\n",
              "    </tr>\n",
              "    <tr>\n",
              "      <th>4881</th>\n",
              "      <td>4882</td>\n",
              "      <td>5.0</td>\n",
              "      <td>0.235</td>\n",
              "      <td>0.27</td>\n",
              "      <td>11.75</td>\n",
              "      <td>0.030</td>\n",
              "      <td>34.0</td>\n",
              "      <td>118.0</td>\n",
              "      <td>0.99540</td>\n",
              "      <td>3.07</td>\n",
              "      <td>0.50</td>\n",
              "      <td>9.400000</td>\n",
              "      <td>6</td>\n",
              "    </tr>\n",
              "    <tr>\n",
              "      <th>4882</th>\n",
              "      <td>4883</td>\n",
              "      <td>5.5</td>\n",
              "      <td>0.320</td>\n",
              "      <td>0.13</td>\n",
              "      <td>1.30</td>\n",
              "      <td>0.037</td>\n",
              "      <td>45.0</td>\n",
              "      <td>156.0</td>\n",
              "      <td>0.99184</td>\n",
              "      <td>3.26</td>\n",
              "      <td>0.38</td>\n",
              "      <td>10.700000</td>\n",
              "      <td>5</td>\n",
              "    </tr>\n",
              "    <tr>\n",
              "      <th>4883</th>\n",
              "      <td>4884</td>\n",
              "      <td>4.9</td>\n",
              "      <td>0.470</td>\n",
              "      <td>0.17</td>\n",
              "      <td>1.90</td>\n",
              "      <td>0.035</td>\n",
              "      <td>60.0</td>\n",
              "      <td>148.0</td>\n",
              "      <td>0.98964</td>\n",
              "      <td>3.27</td>\n",
              "      <td>0.35</td>\n",
              "      <td>11.500000</td>\n",
              "      <td>6</td>\n",
              "    </tr>\n",
              "    <tr>\n",
              "      <th>4884</th>\n",
              "      <td>4885</td>\n",
              "      <td>6.5</td>\n",
              "      <td>0.330</td>\n",
              "      <td>0.38</td>\n",
              "      <td>8.30</td>\n",
              "      <td>0.048</td>\n",
              "      <td>68.0</td>\n",
              "      <td>174.0</td>\n",
              "      <td>0.99492</td>\n",
              "      <td>3.14</td>\n",
              "      <td>0.50</td>\n",
              "      <td>9.600000</td>\n",
              "      <td>5</td>\n",
              "    </tr>\n",
              "    <tr>\n",
              "      <th>4885</th>\n",
              "      <td>4886</td>\n",
              "      <td>6.6</td>\n",
              "      <td>0.340</td>\n",
              "      <td>0.40</td>\n",
              "      <td>8.10</td>\n",
              "      <td>0.046</td>\n",
              "      <td>68.0</td>\n",
              "      <td>170.0</td>\n",
              "      <td>0.99494</td>\n",
              "      <td>3.15</td>\n",
              "      <td>0.50</td>\n",
              "      <td>9.550000</td>\n",
              "      <td>6</td>\n",
              "    </tr>\n",
              "    <tr>\n",
              "      <th>4886</th>\n",
              "      <td>4887</td>\n",
              "      <td>6.2</td>\n",
              "      <td>0.210</td>\n",
              "      <td>0.28</td>\n",
              "      <td>5.70</td>\n",
              "      <td>0.028</td>\n",
              "      <td>45.0</td>\n",
              "      <td>121.0</td>\n",
              "      <td>0.99168</td>\n",
              "      <td>3.21</td>\n",
              "      <td>1.08</td>\n",
              "      <td>12.150000</td>\n",
              "      <td>7</td>\n",
              "    </tr>\n",
              "    <tr>\n",
              "      <th>4887</th>\n",
              "      <td>4888</td>\n",
              "      <td>6.2</td>\n",
              "      <td>0.410</td>\n",
              "      <td>0.22</td>\n",
              "      <td>1.90</td>\n",
              "      <td>0.023</td>\n",
              "      <td>5.0</td>\n",
              "      <td>56.0</td>\n",
              "      <td>0.98928</td>\n",
              "      <td>3.04</td>\n",
              "      <td>0.79</td>\n",
              "      <td>13.000000</td>\n",
              "      <td>7</td>\n",
              "    </tr>\n",
              "    <tr>\n",
              "      <th>4888</th>\n",
              "      <td>4889</td>\n",
              "      <td>6.8</td>\n",
              "      <td>0.220</td>\n",
              "      <td>0.36</td>\n",
              "      <td>1.20</td>\n",
              "      <td>0.052</td>\n",
              "      <td>38.0</td>\n",
              "      <td>127.0</td>\n",
              "      <td>0.99330</td>\n",
              "      <td>3.04</td>\n",
              "      <td>0.54</td>\n",
              "      <td>9.200000</td>\n",
              "      <td>5</td>\n",
              "    </tr>\n",
              "    <tr>\n",
              "      <th>4889</th>\n",
              "      <td>4890</td>\n",
              "      <td>4.9</td>\n",
              "      <td>0.235</td>\n",
              "      <td>0.27</td>\n",
              "      <td>11.75</td>\n",
              "      <td>0.030</td>\n",
              "      <td>34.0</td>\n",
              "      <td>118.0</td>\n",
              "      <td>0.99540</td>\n",
              "      <td>3.07</td>\n",
              "      <td>0.50</td>\n",
              "      <td>9.400000</td>\n",
              "      <td>6</td>\n",
              "    </tr>\n",
              "    <tr>\n",
              "      <th>4890</th>\n",
              "      <td>4891</td>\n",
              "      <td>6.1</td>\n",
              "      <td>0.340</td>\n",
              "      <td>0.29</td>\n",
              "      <td>2.20</td>\n",
              "      <td>0.036</td>\n",
              "      <td>25.0</td>\n",
              "      <td>100.0</td>\n",
              "      <td>0.98938</td>\n",
              "      <td>3.06</td>\n",
              "      <td>0.44</td>\n",
              "      <td>11.800000</td>\n",
              "      <td>6</td>\n",
              "    </tr>\n",
              "    <tr>\n",
              "      <th>4891</th>\n",
              "      <td>4892</td>\n",
              "      <td>5.7</td>\n",
              "      <td>0.210</td>\n",
              "      <td>0.32</td>\n",
              "      <td>0.90</td>\n",
              "      <td>0.038</td>\n",
              "      <td>38.0</td>\n",
              "      <td>121.0</td>\n",
              "      <td>0.99074</td>\n",
              "      <td>3.24</td>\n",
              "      <td>0.46</td>\n",
              "      <td>10.600000</td>\n",
              "      <td>6</td>\n",
              "    </tr>\n",
              "    <tr>\n",
              "      <th>4892</th>\n",
              "      <td>4893</td>\n",
              "      <td>6.5</td>\n",
              "      <td>0.230</td>\n",
              "      <td>0.38</td>\n",
              "      <td>1.30</td>\n",
              "      <td>0.032</td>\n",
              "      <td>29.0</td>\n",
              "      <td>112.0</td>\n",
              "      <td>0.99298</td>\n",
              "      <td>3.29</td>\n",
              "      <td>0.54</td>\n",
              "      <td>9.700000</td>\n",
              "      <td>5</td>\n",
              "    </tr>\n",
              "    <tr>\n",
              "      <th>4893</th>\n",
              "      <td>4894</td>\n",
              "      <td>6.2</td>\n",
              "      <td>0.210</td>\n",
              "      <td>0.29</td>\n",
              "      <td>1.60</td>\n",
              "      <td>0.039</td>\n",
              "      <td>24.0</td>\n",
              "      <td>92.0</td>\n",
              "      <td>0.99114</td>\n",
              "      <td>3.27</td>\n",
              "      <td>0.50</td>\n",
              "      <td>11.200000</td>\n",
              "      <td>6</td>\n",
              "    </tr>\n",
              "    <tr>\n",
              "      <th>4894</th>\n",
              "      <td>4895</td>\n",
              "      <td>6.6</td>\n",
              "      <td>0.320</td>\n",
              "      <td>0.36</td>\n",
              "      <td>8.00</td>\n",
              "      <td>0.047</td>\n",
              "      <td>57.0</td>\n",
              "      <td>168.0</td>\n",
              "      <td>0.99490</td>\n",
              "      <td>3.15</td>\n",
              "      <td>0.46</td>\n",
              "      <td>9.600000</td>\n",
              "      <td>5</td>\n",
              "    </tr>\n",
              "    <tr>\n",
              "      <th>4895</th>\n",
              "      <td>4896</td>\n",
              "      <td>6.5</td>\n",
              "      <td>0.240</td>\n",
              "      <td>0.19</td>\n",
              "      <td>1.20</td>\n",
              "      <td>0.041</td>\n",
              "      <td>30.0</td>\n",
              "      <td>111.0</td>\n",
              "      <td>0.99254</td>\n",
              "      <td>2.99</td>\n",
              "      <td>0.46</td>\n",
              "      <td>9.400000</td>\n",
              "      <td>6</td>\n",
              "    </tr>\n",
              "    <tr>\n",
              "      <th>4896</th>\n",
              "      <td>4897</td>\n",
              "      <td>5.5</td>\n",
              "      <td>0.290</td>\n",
              "      <td>0.30</td>\n",
              "      <td>1.10</td>\n",
              "      <td>0.022</td>\n",
              "      <td>20.0</td>\n",
              "      <td>110.0</td>\n",
              "      <td>0.98869</td>\n",
              "      <td>3.34</td>\n",
              "      <td>0.38</td>\n",
              "      <td>12.800000</td>\n",
              "      <td>7</td>\n",
              "    </tr>\n",
              "    <tr>\n",
              "      <th>4897</th>\n",
              "      <td>4898</td>\n",
              "      <td>6.0</td>\n",
              "      <td>0.210</td>\n",
              "      <td>0.38</td>\n",
              "      <td>0.80</td>\n",
              "      <td>0.020</td>\n",
              "      <td>22.0</td>\n",
              "      <td>98.0</td>\n",
              "      <td>0.98941</td>\n",
              "      <td>3.26</td>\n",
              "      <td>0.32</td>\n",
              "      <td>11.800000</td>\n",
              "      <td>6</td>\n",
              "    </tr>\n",
              "  </tbody>\n",
              "</table>\n",
              "<p>4898 rows × 13 columns</p>\n",
              "</div>"
            ],
            "text/plain": [
              "      Unnamed: 0  fixed.acidity  volatile.acidity  citric.acid  \\\n",
              "0              1            7.0             0.270         0.36   \n",
              "1              2            6.3             0.300         0.34   \n",
              "2              3            8.1             0.280         0.40   \n",
              "3              4            7.2             0.230         0.32   \n",
              "4              5            7.2             0.230         0.32   \n",
              "5              6            8.1             0.280         0.40   \n",
              "6              7            6.2             0.320         0.16   \n",
              "7              8            7.0             0.270         0.36   \n",
              "8              9            6.3             0.300         0.34   \n",
              "9             10            8.1             0.220         0.43   \n",
              "10            11            8.1             0.270         0.41   \n",
              "11            12            8.6             0.230         0.40   \n",
              "12            13            7.9             0.180         0.37   \n",
              "13            14            6.6             0.160         0.40   \n",
              "14            15            8.3             0.420         0.62   \n",
              "15            16            6.6             0.170         0.38   \n",
              "16            17            6.3             0.480         0.04   \n",
              "17            18            6.2             0.660         0.48   \n",
              "18            19            7.4             0.340         0.42   \n",
              "19            20            6.5             0.310         0.14   \n",
              "20            21            6.2             0.660         0.48   \n",
              "21            22            6.4             0.310         0.38   \n",
              "22            23            6.8             0.260         0.42   \n",
              "23            24            7.6             0.670         0.14   \n",
              "24            25            6.6             0.270         0.41   \n",
              "25            26            7.0             0.250         0.32   \n",
              "26            27            6.9             0.240         0.35   \n",
              "27            28            7.0             0.280         0.39   \n",
              "28            29            7.4             0.270         0.48   \n",
              "29            30            7.2             0.320         0.36   \n",
              "...          ...            ...               ...          ...   \n",
              "4868        4869            5.8             0.230         0.31   \n",
              "4869        4870            6.6             0.240         0.33   \n",
              "4870        4871            6.1             0.320         0.28   \n",
              "4871        4872            5.0             0.200         0.40   \n",
              "4872        4873            6.0             0.420         0.41   \n",
              "4873        4874            5.7             0.210         0.32   \n",
              "4874        4875            5.6             0.200         0.36   \n",
              "4875        4876            7.4             0.220         0.26   \n",
              "4876        4877            6.2             0.380         0.42   \n",
              "4877        4878            5.9             0.540         0.00   \n",
              "4878        4879            6.2             0.530         0.02   \n",
              "4879        4880            6.6             0.340         0.40   \n",
              "4880        4881            6.6             0.340         0.40   \n",
              "4881        4882            5.0             0.235         0.27   \n",
              "4882        4883            5.5             0.320         0.13   \n",
              "4883        4884            4.9             0.470         0.17   \n",
              "4884        4885            6.5             0.330         0.38   \n",
              "4885        4886            6.6             0.340         0.40   \n",
              "4886        4887            6.2             0.210         0.28   \n",
              "4887        4888            6.2             0.410         0.22   \n",
              "4888        4889            6.8             0.220         0.36   \n",
              "4889        4890            4.9             0.235         0.27   \n",
              "4890        4891            6.1             0.340         0.29   \n",
              "4891        4892            5.7             0.210         0.32   \n",
              "4892        4893            6.5             0.230         0.38   \n",
              "4893        4894            6.2             0.210         0.29   \n",
              "4894        4895            6.6             0.320         0.36   \n",
              "4895        4896            6.5             0.240         0.19   \n",
              "4896        4897            5.5             0.290         0.30   \n",
              "4897        4898            6.0             0.210         0.38   \n",
              "\n",
              "      residual.sugar  chlorides  free.sulfur.dioxide  total.sulfur.dioxide  \\\n",
              "0              20.70      0.045                 45.0                 170.0   \n",
              "1               1.60      0.049                 14.0                 132.0   \n",
              "2               6.90      0.050                 30.0                  97.0   \n",
              "3               8.50      0.058                 47.0                 186.0   \n",
              "4               8.50      0.058                 47.0                 186.0   \n",
              "5               6.90      0.050                 30.0                  97.0   \n",
              "6               7.00      0.045                 30.0                 136.0   \n",
              "7              20.70      0.045                 45.0                 170.0   \n",
              "8               1.60      0.049                 14.0                 132.0   \n",
              "9               1.50      0.044                 28.0                 129.0   \n",
              "10              1.45      0.033                 11.0                  63.0   \n",
              "11              4.20      0.035                 17.0                 109.0   \n",
              "12              1.20      0.040                 16.0                  75.0   \n",
              "13              1.50      0.044                 48.0                 143.0   \n",
              "14             19.25      0.040                 41.0                 172.0   \n",
              "15              1.50      0.032                 28.0                 112.0   \n",
              "16              1.10      0.046                 30.0                  99.0   \n",
              "17              1.20      0.029                 29.0                  75.0   \n",
              "18              1.10      0.033                 17.0                 171.0   \n",
              "19              7.50      0.044                 34.0                 133.0   \n",
              "20              1.20      0.029                 29.0                  75.0   \n",
              "21              2.90      0.038                 19.0                 102.0   \n",
              "22              1.70      0.049                 41.0                 122.0   \n",
              "23              1.50      0.074                 25.0                 168.0   \n",
              "24              1.30      0.052                 16.0                 142.0   \n",
              "25              9.00      0.046                 56.0                 245.0   \n",
              "26              1.00      0.052                 35.0                 146.0   \n",
              "27              8.70      0.051                 32.0                 141.0   \n",
              "28              1.10      0.047                 17.0                 132.0   \n",
              "29              2.00      0.033                 37.0                 114.0   \n",
              "...              ...        ...                  ...                   ...   \n",
              "4868            4.50      0.046                 42.0                 124.0   \n",
              "4869           10.10      0.032                  8.0                  81.0   \n",
              "4870            6.60      0.021                 29.0                 132.0   \n",
              "4871            1.90      0.015                 20.0                  98.0   \n",
              "4872           12.40      0.032                 50.0                 179.0   \n",
              "4873            1.60      0.030                 33.0                 122.0   \n",
              "4874            2.50      0.048                 16.0                 125.0   \n",
              "4875            1.20      0.035                 18.0                  97.0   \n",
              "4876            2.50      0.038                 34.0                 117.0   \n",
              "4877            0.80      0.032                 12.0                  82.0   \n",
              "4878            0.90      0.035                  6.0                  81.0   \n",
              "4879            8.10      0.046                 68.0                 170.0   \n",
              "4880            8.10      0.046                 68.0                 170.0   \n",
              "4881           11.75      0.030                 34.0                 118.0   \n",
              "4882            1.30      0.037                 45.0                 156.0   \n",
              "4883            1.90      0.035                 60.0                 148.0   \n",
              "4884            8.30      0.048                 68.0                 174.0   \n",
              "4885            8.10      0.046                 68.0                 170.0   \n",
              "4886            5.70      0.028                 45.0                 121.0   \n",
              "4887            1.90      0.023                  5.0                  56.0   \n",
              "4888            1.20      0.052                 38.0                 127.0   \n",
              "4889           11.75      0.030                 34.0                 118.0   \n",
              "4890            2.20      0.036                 25.0                 100.0   \n",
              "4891            0.90      0.038                 38.0                 121.0   \n",
              "4892            1.30      0.032                 29.0                 112.0   \n",
              "4893            1.60      0.039                 24.0                  92.0   \n",
              "4894            8.00      0.047                 57.0                 168.0   \n",
              "4895            1.20      0.041                 30.0                 111.0   \n",
              "4896            1.10      0.022                 20.0                 110.0   \n",
              "4897            0.80      0.020                 22.0                  98.0   \n",
              "\n",
              "      density    pH  sulphates    alcohol  quality  \n",
              "0     1.00100  3.00       0.45   8.800000        6  \n",
              "1     0.99400  3.30       0.49   9.500000        6  \n",
              "2     0.99510  3.26       0.44  10.100000        6  \n",
              "3     0.99560  3.19       0.40   9.900000        6  \n",
              "4     0.99560  3.19       0.40   9.900000        6  \n",
              "5     0.99510  3.26       0.44  10.100000        6  \n",
              "6     0.99490  3.18       0.47   9.600000        6  \n",
              "7     1.00100  3.00       0.45   8.800000        6  \n",
              "8     0.99400  3.30       0.49   9.500000        6  \n",
              "9     0.99380  3.22       0.45  11.000000        6  \n",
              "10    0.99080  2.99       0.56  12.000000        5  \n",
              "11    0.99470  3.14       0.53   9.700000        5  \n",
              "12    0.99200  3.18       0.63  10.800000        5  \n",
              "13    0.99120  3.54       0.52  12.400000        7  \n",
              "14    1.00020  2.98       0.67   9.700000        5  \n",
              "15    0.99140  3.25       0.55  11.400000        7  \n",
              "16    0.99280  3.24       0.36   9.600000        6  \n",
              "17    0.98920  3.33       0.39  12.800000        8  \n",
              "18    0.99170  3.12       0.53  11.300000        6  \n",
              "19    0.99550  3.22       0.50   9.500000        5  \n",
              "20    0.98920  3.33       0.39  12.800000        8  \n",
              "21    0.99120  3.17       0.35  11.000000        7  \n",
              "22    0.99300  3.47       0.48  10.500000        8  \n",
              "23    0.99370  3.05       0.51   9.300000        5  \n",
              "24    0.99510  3.42       0.47  10.000000        6  \n",
              "25    0.99550  3.25       0.50  10.400000        6  \n",
              "26    0.99300  3.45       0.44  10.000000        6  \n",
              "27    0.99610  3.38       0.53  10.500000        6  \n",
              "28    0.99140  3.19       0.49  11.600000        6  \n",
              "29    0.99060  3.10       0.71  12.300000        7  \n",
              "...       ...   ...        ...        ...      ...  \n",
              "4868  0.99324  3.31       0.64  10.800000        6  \n",
              "4869  0.99626  3.19       0.51   9.800000        6  \n",
              "4870  0.99188  3.15       0.36  11.450000        7  \n",
              "4871  0.98970  3.37       0.55  12.050000        6  \n",
              "4872  0.99622  3.14       0.60   9.700000        5  \n",
              "4873  0.99044  3.33       0.52  11.900000        6  \n",
              "4874  0.99282  3.49       0.49  10.000000        6  \n",
              "4875  0.99245  3.12       0.41   9.700000        6  \n",
              "4876  0.99132  3.36       0.59  11.600000        7  \n",
              "4877  0.99286  3.25       0.36   8.800000        5  \n",
              "4878  0.99234  3.24       0.35   9.500000        4  \n",
              "4879  0.99494  3.15       0.50   9.533333        6  \n",
              "4880  0.99494  3.15       0.50   9.533333        6  \n",
              "4881  0.99540  3.07       0.50   9.400000        6  \n",
              "4882  0.99184  3.26       0.38  10.700000        5  \n",
              "4883  0.98964  3.27       0.35  11.500000        6  \n",
              "4884  0.99492  3.14       0.50   9.600000        5  \n",
              "4885  0.99494  3.15       0.50   9.550000        6  \n",
              "4886  0.99168  3.21       1.08  12.150000        7  \n",
              "4887  0.98928  3.04       0.79  13.000000        7  \n",
              "4888  0.99330  3.04       0.54   9.200000        5  \n",
              "4889  0.99540  3.07       0.50   9.400000        6  \n",
              "4890  0.98938  3.06       0.44  11.800000        6  \n",
              "4891  0.99074  3.24       0.46  10.600000        6  \n",
              "4892  0.99298  3.29       0.54   9.700000        5  \n",
              "4893  0.99114  3.27       0.50  11.200000        6  \n",
              "4894  0.99490  3.15       0.46   9.600000        5  \n",
              "4895  0.99254  2.99       0.46   9.400000        6  \n",
              "4896  0.98869  3.34       0.38  12.800000        7  \n",
              "4897  0.98941  3.26       0.32  11.800000        6  \n",
              "\n",
              "[4898 rows x 13 columns]"
            ]
          },
          "metadata": {
            "tags": []
          },
          "execution_count": 13
        }
      ]
    },
    {
      "metadata": {
        "id": "OC5v034sQEqb",
        "colab_type": "text"
      },
      "cell_type": "markdown",
      "source": [
        ""
      ]
    },
    {
      "metadata": {
        "id": "YDgxyvEOf_CW",
        "colab_type": "text"
      },
      "cell_type": "markdown",
      "source": [
        "#Attrinute Information\n",
        "1,fixed.acidity\n",
        "2.volatile.acidity\n",
        "3citric.acid\n",
        "4.residual.sugar\n",
        "5.chlorides\"\n",
        "6.free.sulfur.dioxide\n",
        "7.total.sulfur.dioxide\n",
        "8.density\n",
        "9.pH\n",
        "10sulphates\n",
        "11.alcohol\n",
        "12.quality\"\n"
      ]
    },
    {
      "metadata": {
        "id": "mEcWk8dnhHLh",
        "colab_type": "code",
        "colab": {}
      },
      "cell_type": "code",
      "source": [
        ""
      ],
      "execution_count": 0,
      "outputs": []
    },
    {
      "metadata": {
        "id": "QlnF99cAQzcU",
        "colab_type": "text"
      },
      "cell_type": "markdown",
      "source": [
        "![wine](https://www.google.co.in/search?q=wine&source=lnms&tbm=isch&sa=X&ved=0ahUKEwi6goCfhcTbAhUHLY8KHa_kBSoQ_AUICigB&biw=1366&bih=662#imgrc=Gg95UE9yFq47gM:)"
      ]
    },
    {
      "metadata": {
        "id": "1_DWAmfvPAqG",
        "colab_type": "code",
        "colab": {
          "base_uri": "https://localhost:8080/",
          "height": 34
        },
        "outputId": "f4b23976-87e7-4081-d387-d97eec6454c9"
      },
      "cell_type": "code",
      "source": [
        "df.shape"
      ],
      "execution_count": 14,
      "outputs": [
        {
          "output_type": "execute_result",
          "data": {
            "text/plain": [
              "(4898, 13)"
            ]
          },
          "metadata": {
            "tags": []
          },
          "execution_count": 14
        }
      ]
    },
    {
      "metadata": {
        "id": "BdXOCtEqi6w7",
        "colab_type": "code",
        "colab": {
          "base_uri": "https://localhost:8080/",
          "height": 34
        },
        "outputId": "27b69838-d561-4c89-9aaa-275836386a61"
      },
      "cell_type": "code",
      "source": [
        "df.size"
      ],
      "execution_count": 15,
      "outputs": [
        {
          "output_type": "execute_result",
          "data": {
            "text/plain": [
              "63674"
            ]
          },
          "metadata": {
            "tags": []
          },
          "execution_count": 15
        }
      ]
    },
    {
      "metadata": {
        "id": "x_9SOAfyjEB1",
        "colab_type": "code",
        "colab": {
          "base_uri": "https://localhost:8080/",
          "height": 255
        },
        "outputId": "1e8e3f74-f1d2-43be-b48b-79b5e14f4711"
      },
      "cell_type": "code",
      "source": [
        "df.isnull().sum()"
      ],
      "execution_count": 16,
      "outputs": [
        {
          "output_type": "execute_result",
          "data": {
            "text/plain": [
              "Unnamed: 0              0\n",
              "fixed.acidity           0\n",
              "volatile.acidity        0\n",
              "citric.acid             0\n",
              "residual.sugar          0\n",
              "chlorides               0\n",
              "free.sulfur.dioxide     0\n",
              "total.sulfur.dioxide    0\n",
              "density                 0\n",
              "pH                      0\n",
              "sulphates               0\n",
              "alcohol                 0\n",
              "quality                 0\n",
              "dtype: int64"
            ]
          },
          "metadata": {
            "tags": []
          },
          "execution_count": 16
        }
      ]
    },
    {
      "metadata": {
        "id": "5UWgHj3SjLyU",
        "colab_type": "code",
        "colab": {
          "base_uri": "https://localhost:8080/",
          "height": 241
        },
        "outputId": "04a140dc-af4a-4ad1-c462-f57660744475"
      },
      "cell_type": "code",
      "source": [
        "df.head()"
      ],
      "execution_count": 17,
      "outputs": [
        {
          "output_type": "execute_result",
          "data": {
            "text/html": [
              "<div>\n",
              "<style scoped>\n",
              "    .dataframe tbody tr th:only-of-type {\n",
              "        vertical-align: middle;\n",
              "    }\n",
              "\n",
              "    .dataframe tbody tr th {\n",
              "        vertical-align: top;\n",
              "    }\n",
              "\n",
              "    .dataframe thead th {\n",
              "        text-align: right;\n",
              "    }\n",
              "</style>\n",
              "<table border=\"1\" class=\"dataframe\">\n",
              "  <thead>\n",
              "    <tr style=\"text-align: right;\">\n",
              "      <th></th>\n",
              "      <th>Unnamed: 0</th>\n",
              "      <th>fixed.acidity</th>\n",
              "      <th>volatile.acidity</th>\n",
              "      <th>citric.acid</th>\n",
              "      <th>residual.sugar</th>\n",
              "      <th>chlorides</th>\n",
              "      <th>free.sulfur.dioxide</th>\n",
              "      <th>total.sulfur.dioxide</th>\n",
              "      <th>density</th>\n",
              "      <th>pH</th>\n",
              "      <th>sulphates</th>\n",
              "      <th>alcohol</th>\n",
              "      <th>quality</th>\n",
              "    </tr>\n",
              "  </thead>\n",
              "  <tbody>\n",
              "    <tr>\n",
              "      <th>0</th>\n",
              "      <td>1</td>\n",
              "      <td>7.0</td>\n",
              "      <td>0.27</td>\n",
              "      <td>0.36</td>\n",
              "      <td>20.7</td>\n",
              "      <td>0.045</td>\n",
              "      <td>45.0</td>\n",
              "      <td>170.0</td>\n",
              "      <td>1.0010</td>\n",
              "      <td>3.00</td>\n",
              "      <td>0.45</td>\n",
              "      <td>8.8</td>\n",
              "      <td>6</td>\n",
              "    </tr>\n",
              "    <tr>\n",
              "      <th>1</th>\n",
              "      <td>2</td>\n",
              "      <td>6.3</td>\n",
              "      <td>0.30</td>\n",
              "      <td>0.34</td>\n",
              "      <td>1.6</td>\n",
              "      <td>0.049</td>\n",
              "      <td>14.0</td>\n",
              "      <td>132.0</td>\n",
              "      <td>0.9940</td>\n",
              "      <td>3.30</td>\n",
              "      <td>0.49</td>\n",
              "      <td>9.5</td>\n",
              "      <td>6</td>\n",
              "    </tr>\n",
              "    <tr>\n",
              "      <th>2</th>\n",
              "      <td>3</td>\n",
              "      <td>8.1</td>\n",
              "      <td>0.28</td>\n",
              "      <td>0.40</td>\n",
              "      <td>6.9</td>\n",
              "      <td>0.050</td>\n",
              "      <td>30.0</td>\n",
              "      <td>97.0</td>\n",
              "      <td>0.9951</td>\n",
              "      <td>3.26</td>\n",
              "      <td>0.44</td>\n",
              "      <td>10.1</td>\n",
              "      <td>6</td>\n",
              "    </tr>\n",
              "    <tr>\n",
              "      <th>3</th>\n",
              "      <td>4</td>\n",
              "      <td>7.2</td>\n",
              "      <td>0.23</td>\n",
              "      <td>0.32</td>\n",
              "      <td>8.5</td>\n",
              "      <td>0.058</td>\n",
              "      <td>47.0</td>\n",
              "      <td>186.0</td>\n",
              "      <td>0.9956</td>\n",
              "      <td>3.19</td>\n",
              "      <td>0.40</td>\n",
              "      <td>9.9</td>\n",
              "      <td>6</td>\n",
              "    </tr>\n",
              "    <tr>\n",
              "      <th>4</th>\n",
              "      <td>5</td>\n",
              "      <td>7.2</td>\n",
              "      <td>0.23</td>\n",
              "      <td>0.32</td>\n",
              "      <td>8.5</td>\n",
              "      <td>0.058</td>\n",
              "      <td>47.0</td>\n",
              "      <td>186.0</td>\n",
              "      <td>0.9956</td>\n",
              "      <td>3.19</td>\n",
              "      <td>0.40</td>\n",
              "      <td>9.9</td>\n",
              "      <td>6</td>\n",
              "    </tr>\n",
              "  </tbody>\n",
              "</table>\n",
              "</div>"
            ],
            "text/plain": [
              "   Unnamed: 0  fixed.acidity  volatile.acidity  citric.acid  residual.sugar  \\\n",
              "0           1            7.0              0.27         0.36            20.7   \n",
              "1           2            6.3              0.30         0.34             1.6   \n",
              "2           3            8.1              0.28         0.40             6.9   \n",
              "3           4            7.2              0.23         0.32             8.5   \n",
              "4           5            7.2              0.23         0.32             8.5   \n",
              "\n",
              "   chlorides  free.sulfur.dioxide  total.sulfur.dioxide  density    pH  \\\n",
              "0      0.045                 45.0                 170.0   1.0010  3.00   \n",
              "1      0.049                 14.0                 132.0   0.9940  3.30   \n",
              "2      0.050                 30.0                  97.0   0.9951  3.26   \n",
              "3      0.058                 47.0                 186.0   0.9956  3.19   \n",
              "4      0.058                 47.0                 186.0   0.9956  3.19   \n",
              "\n",
              "   sulphates  alcohol  quality  \n",
              "0       0.45      8.8        6  \n",
              "1       0.49      9.5        6  \n",
              "2       0.44     10.1        6  \n",
              "3       0.40      9.9        6  \n",
              "4       0.40      9.9        6  "
            ]
          },
          "metadata": {
            "tags": []
          },
          "execution_count": 17
        }
      ]
    },
    {
      "metadata": {
        "id": "yN7f0siXjqpn",
        "colab_type": "code",
        "colab": {
          "base_uri": "https://localhost:8080/",
          "height": 317
        },
        "outputId": "49d95d34-81ab-49c8-bbae-e6f881a208a8"
      },
      "cell_type": "code",
      "source": [
        "df.describe(include='all')"
      ],
      "execution_count": 19,
      "outputs": [
        {
          "output_type": "execute_result",
          "data": {
            "text/html": [
              "<div>\n",
              "<style scoped>\n",
              "    .dataframe tbody tr th:only-of-type {\n",
              "        vertical-align: middle;\n",
              "    }\n",
              "\n",
              "    .dataframe tbody tr th {\n",
              "        vertical-align: top;\n",
              "    }\n",
              "\n",
              "    .dataframe thead th {\n",
              "        text-align: right;\n",
              "    }\n",
              "</style>\n",
              "<table border=\"1\" class=\"dataframe\">\n",
              "  <thead>\n",
              "    <tr style=\"text-align: right;\">\n",
              "      <th></th>\n",
              "      <th>Unnamed: 0</th>\n",
              "      <th>fixed.acidity</th>\n",
              "      <th>volatile.acidity</th>\n",
              "      <th>citric.acid</th>\n",
              "      <th>residual.sugar</th>\n",
              "      <th>chlorides</th>\n",
              "      <th>free.sulfur.dioxide</th>\n",
              "      <th>total.sulfur.dioxide</th>\n",
              "      <th>density</th>\n",
              "      <th>pH</th>\n",
              "      <th>sulphates</th>\n",
              "      <th>alcohol</th>\n",
              "      <th>quality</th>\n",
              "    </tr>\n",
              "  </thead>\n",
              "  <tbody>\n",
              "    <tr>\n",
              "      <th>count</th>\n",
              "      <td>4898.000000</td>\n",
              "      <td>4898.000000</td>\n",
              "      <td>4898.000000</td>\n",
              "      <td>4898.000000</td>\n",
              "      <td>4898.000000</td>\n",
              "      <td>4898.000000</td>\n",
              "      <td>4898.000000</td>\n",
              "      <td>4898.000000</td>\n",
              "      <td>4898.000000</td>\n",
              "      <td>4898.000000</td>\n",
              "      <td>4898.000000</td>\n",
              "      <td>4898.000000</td>\n",
              "      <td>4898.000000</td>\n",
              "    </tr>\n",
              "    <tr>\n",
              "      <th>mean</th>\n",
              "      <td>2449.500000</td>\n",
              "      <td>6.854788</td>\n",
              "      <td>0.278241</td>\n",
              "      <td>0.334192</td>\n",
              "      <td>6.391415</td>\n",
              "      <td>0.045772</td>\n",
              "      <td>35.308085</td>\n",
              "      <td>138.360657</td>\n",
              "      <td>0.994027</td>\n",
              "      <td>3.188267</td>\n",
              "      <td>0.489847</td>\n",
              "      <td>10.514267</td>\n",
              "      <td>5.877909</td>\n",
              "    </tr>\n",
              "    <tr>\n",
              "      <th>std</th>\n",
              "      <td>1414.075139</td>\n",
              "      <td>0.843868</td>\n",
              "      <td>0.100795</td>\n",
              "      <td>0.121020</td>\n",
              "      <td>5.072058</td>\n",
              "      <td>0.021848</td>\n",
              "      <td>17.007137</td>\n",
              "      <td>42.498065</td>\n",
              "      <td>0.002991</td>\n",
              "      <td>0.151001</td>\n",
              "      <td>0.114126</td>\n",
              "      <td>1.230621</td>\n",
              "      <td>0.885639</td>\n",
              "    </tr>\n",
              "    <tr>\n",
              "      <th>min</th>\n",
              "      <td>1.000000</td>\n",
              "      <td>3.800000</td>\n",
              "      <td>0.080000</td>\n",
              "      <td>0.000000</td>\n",
              "      <td>0.600000</td>\n",
              "      <td>0.009000</td>\n",
              "      <td>2.000000</td>\n",
              "      <td>9.000000</td>\n",
              "      <td>0.987110</td>\n",
              "      <td>2.720000</td>\n",
              "      <td>0.220000</td>\n",
              "      <td>8.000000</td>\n",
              "      <td>3.000000</td>\n",
              "    </tr>\n",
              "    <tr>\n",
              "      <th>25%</th>\n",
              "      <td>1225.250000</td>\n",
              "      <td>6.300000</td>\n",
              "      <td>0.210000</td>\n",
              "      <td>0.270000</td>\n",
              "      <td>1.700000</td>\n",
              "      <td>0.036000</td>\n",
              "      <td>23.000000</td>\n",
              "      <td>108.000000</td>\n",
              "      <td>0.991723</td>\n",
              "      <td>3.090000</td>\n",
              "      <td>0.410000</td>\n",
              "      <td>9.500000</td>\n",
              "      <td>5.000000</td>\n",
              "    </tr>\n",
              "    <tr>\n",
              "      <th>50%</th>\n",
              "      <td>2449.500000</td>\n",
              "      <td>6.800000</td>\n",
              "      <td>0.260000</td>\n",
              "      <td>0.320000</td>\n",
              "      <td>5.200000</td>\n",
              "      <td>0.043000</td>\n",
              "      <td>34.000000</td>\n",
              "      <td>134.000000</td>\n",
              "      <td>0.993740</td>\n",
              "      <td>3.180000</td>\n",
              "      <td>0.470000</td>\n",
              "      <td>10.400000</td>\n",
              "      <td>6.000000</td>\n",
              "    </tr>\n",
              "    <tr>\n",
              "      <th>75%</th>\n",
              "      <td>3673.750000</td>\n",
              "      <td>7.300000</td>\n",
              "      <td>0.320000</td>\n",
              "      <td>0.390000</td>\n",
              "      <td>9.900000</td>\n",
              "      <td>0.050000</td>\n",
              "      <td>46.000000</td>\n",
              "      <td>167.000000</td>\n",
              "      <td>0.996100</td>\n",
              "      <td>3.280000</td>\n",
              "      <td>0.550000</td>\n",
              "      <td>11.400000</td>\n",
              "      <td>6.000000</td>\n",
              "    </tr>\n",
              "    <tr>\n",
              "      <th>max</th>\n",
              "      <td>4898.000000</td>\n",
              "      <td>14.200000</td>\n",
              "      <td>1.100000</td>\n",
              "      <td>1.660000</td>\n",
              "      <td>65.800000</td>\n",
              "      <td>0.346000</td>\n",
              "      <td>289.000000</td>\n",
              "      <td>440.000000</td>\n",
              "      <td>1.038980</td>\n",
              "      <td>3.820000</td>\n",
              "      <td>1.080000</td>\n",
              "      <td>14.200000</td>\n",
              "      <td>9.000000</td>\n",
              "    </tr>\n",
              "  </tbody>\n",
              "</table>\n",
              "</div>"
            ],
            "text/plain": [
              "        Unnamed: 0  fixed.acidity  volatile.acidity  citric.acid  \\\n",
              "count  4898.000000    4898.000000       4898.000000  4898.000000   \n",
              "mean   2449.500000       6.854788          0.278241     0.334192   \n",
              "std    1414.075139       0.843868          0.100795     0.121020   \n",
              "min       1.000000       3.800000          0.080000     0.000000   \n",
              "25%    1225.250000       6.300000          0.210000     0.270000   \n",
              "50%    2449.500000       6.800000          0.260000     0.320000   \n",
              "75%    3673.750000       7.300000          0.320000     0.390000   \n",
              "max    4898.000000      14.200000          1.100000     1.660000   \n",
              "\n",
              "       residual.sugar    chlorides  free.sulfur.dioxide  total.sulfur.dioxide  \\\n",
              "count     4898.000000  4898.000000          4898.000000           4898.000000   \n",
              "mean         6.391415     0.045772            35.308085            138.360657   \n",
              "std          5.072058     0.021848            17.007137             42.498065   \n",
              "min          0.600000     0.009000             2.000000              9.000000   \n",
              "25%          1.700000     0.036000            23.000000            108.000000   \n",
              "50%          5.200000     0.043000            34.000000            134.000000   \n",
              "75%          9.900000     0.050000            46.000000            167.000000   \n",
              "max         65.800000     0.346000           289.000000            440.000000   \n",
              "\n",
              "           density           pH    sulphates      alcohol      quality  \n",
              "count  4898.000000  4898.000000  4898.000000  4898.000000  4898.000000  \n",
              "mean      0.994027     3.188267     0.489847    10.514267     5.877909  \n",
              "std       0.002991     0.151001     0.114126     1.230621     0.885639  \n",
              "min       0.987110     2.720000     0.220000     8.000000     3.000000  \n",
              "25%       0.991723     3.090000     0.410000     9.500000     5.000000  \n",
              "50%       0.993740     3.180000     0.470000    10.400000     6.000000  \n",
              "75%       0.996100     3.280000     0.550000    11.400000     6.000000  \n",
              "max       1.038980     3.820000     1.080000    14.200000     9.000000  "
            ]
          },
          "metadata": {
            "tags": []
          },
          "execution_count": 19
        }
      ]
    },
    {
      "metadata": {
        "id": "a_JRLE_5j0QY",
        "colab_type": "code",
        "colab": {}
      },
      "cell_type": "code",
      "source": [
        ""
      ],
      "execution_count": 0,
      "outputs": []
    },
    {
      "metadata": {
        "id": "gofhLQeTkNnE",
        "colab_type": "text"
      },
      "cell_type": "markdown",
      "source": [
        "1. Univariant Analysis"
      ]
    },
    {
      "metadata": {
        "id": "C5ewvhnVkY5N",
        "colab_type": "code",
        "colab": {
          "base_uri": "https://localhost:8080/",
          "height": 330
        },
        "outputId": "43351bd9-71c4-4f68-c477-dd24e2f3c0ee"
      },
      "cell_type": "code",
      "source": [
        "sns.countplot(x='quality',data=df)"
      ],
      "execution_count": 23,
      "outputs": [
        {
          "output_type": "stream",
          "text": [
            "/usr/local/lib/python3.6/dist-packages/seaborn/categorical.py:1428: FutureWarning: remove_na is deprecated and is a private function. Do not use.\n",
            "  stat_data = remove_na(group_data)\n"
          ],
          "name": "stderr"
        },
        {
          "output_type": "execute_result",
          "data": {
            "text/plain": [
              "<matplotlib.axes._subplots.AxesSubplot at 0x7fa53a1c3a90>"
            ]
          },
          "metadata": {
            "tags": []
          },
          "execution_count": 23
        },
        {
          "output_type": "display_data",
          "data": {
            "image/png": "[encoded data removed]",
            "text/plain": [
              "<matplotlib.figure.Figure at 0x7fa53a1c31d0>"
            ]
          },
          "metadata": {
            "tags": []
          }
        }
      ]
    },
    {
      "metadata": {
        "id": "7g-pUphwlHEk",
        "colab_type": "code",
        "colab": {
          "base_uri": "https://localhost:8080/",
          "height": 333
        },
        "outputId": "dcef9e24-30ae-4937-ca73-889e8e2a4b4a"
      },
      "cell_type": "code",
      "source": [
        "plt.hist(x='pH',data=df)"
      ],
      "execution_count": 24,
      "outputs": [
        {
          "output_type": "execute_result",
          "data": {
            "text/plain": [
              "(array([  10.,  162.,  631., 1331., 1407.,  823.,  355.,  129.,   34.,\n",
              "          16.]),\n",
              " array([2.72, 2.83, 2.94, 3.05, 3.16, 3.27, 3.38, 3.49, 3.6 , 3.71, 3.82]),\n",
              " <a list of 10 Patch objects>)"
            ]
          },
          "metadata": {
            "tags": []
          },
          "execution_count": 24
        },
        {
          "output_type": "display_data",
          "data": {
            "image/png": "[encoded data removed]",
            "text/plain": [
              "<matplotlib.figure.Figure at 0x7fa53a0e1b38>"
            ]
          },
          "metadata": {
            "tags": []
          }
        }
      ]
    },
    {
      "metadata": {
        "id": "BHdZ96kGmU9K",
        "colab_type": "code",
        "colab": {
          "base_uri": "https://localhost:8080/",
          "height": 486
        },
        "outputId": "e7d3bcc3-53c0-4cac-c6a2-8235a6dc716f"
      },
      "cell_type": "code",
      "source": [
        "plt.hist(x='chlorides',data=df,bins=30)"
      ],
      "execution_count": 31,
      "outputs": [
        {
          "output_type": "execute_result",
          "data": {
            "text/plain": [
              "(array([5.600e+01, 6.150e+02, 1.723e+03, 1.690e+03, 5.410e+02, 9.800e+01,\n",
              "        3.500e+01, 2.900e+01, 9.000e+00, 1.300e+01, 1.200e+01, 1.000e+01,\n",
              "        1.100e+01, 8.000e+00, 2.000e+01, 7.000e+00, 3.000e+00, 8.000e+00,\n",
              "        2.000e+00, 0.000e+00, 3.000e+00, 1.000e+00, 0.000e+00, 1.000e+00,\n",
              "        0.000e+00, 2.000e+00, 0.000e+00, 0.000e+00, 0.000e+00, 1.000e+00]),\n",
              " array([0.009     , 0.02023333, 0.03146667, 0.0427    , 0.05393333,\n",
              "        0.06516667, 0.0764    , 0.08763333, 0.09886667, 0.1101    ,\n",
              "        0.12133333, 0.13256667, 0.1438    , 0.15503333, 0.16626667,\n",
              "        0.1775    , 0.18873333, 0.19996667, 0.2112    , 0.22243333,\n",
              "        0.23366667, 0.2449    , 0.25613333, 0.26736667, 0.2786    ,\n",
              "        0.28983333, 0.30106667, 0.3123    , 0.32353333, 0.33476667,\n",
              "        0.346     ]),\n",
              " <a list of 30 Patch objects>)"
            ]
          },
          "metadata": {
            "tags": []
          },
          "execution_count": 31
        },
        {
          "output_type": "display_data",
          "data": {
            "image/png": "[encoded data removed]",
            "text/plain": [
              "<matplotlib.figure.Figure at 0x7fa5364070b8>"
            ]
          },
          "metadata": {
            "tags": []
          }
        }
      ]
    },
    {
      "metadata": {
        "id": "P7DbRGdhl2xY",
        "colab_type": "code",
        "colab": {
          "base_uri": "https://localhost:8080/",
          "height": 330
        },
        "outputId": "4f464616-db9a-419f-c1a8-6dc4d24035ef"
      },
      "cell_type": "code",
      "source": [
        "sns.boxplot(df['chlorides'])"
      ],
      "execution_count": 38,
      "outputs": [
        {
          "output_type": "stream",
          "text": [
            "/usr/local/lib/python3.6/dist-packages/seaborn/categorical.py:454: FutureWarning: remove_na is deprecated and is a private function. Do not use.\n",
            "  box_data = remove_na(group_data)\n"
          ],
          "name": "stderr"
        },
        {
          "output_type": "execute_result",
          "data": {
            "text/plain": [
              "<matplotlib.axes._subplots.AxesSubplot at 0x7fa536213b38>"
            ]
          },
          "metadata": {
            "tags": []
          },
          "execution_count": 38
        },
        {
          "output_type": "display_data",
          "data": {
            "image/png": "[encoded data removed]",
            "text/plain": [
              "<matplotlib.figure.Figure at 0x7fa53625d550>"
            ]
          },
          "metadata": {
            "tags": []
          }
        }
      ]
    },
    {
      "metadata": {
        "id": "3iU4sHLOnhI-",
        "colab_type": "code",
        "colab": {
          "base_uri": "https://localhost:8080/",
          "height": 296
        },
        "outputId": "493edc28-9014-4a2a-eb56-e7436cf3bb20"
      },
      "cell_type": "code",
      "source": [
        "sns.distplot(df['chlorides'])"
      ],
      "execution_count": 39,
      "outputs": [
        {
          "output_type": "execute_result",
          "data": {
            "text/plain": [
              "<matplotlib.axes._subplots.AxesSubplot at 0x7fa53a182048>"
            ]
          },
          "metadata": {
            "tags": []
          },
          "execution_count": 39
        },
        {
          "output_type": "display_data",
          "data": {
            "image/png": "[encoded data removed]",
            "text/plain": [
              "<matplotlib.figure.Figure at 0x7fa536074588>"
            ]
          },
          "metadata": {
            "tags": []
          }
        }
      ]
    },
    {
      "metadata": {
        "id": "l9hWehSqoz5z",
        "colab_type": "code",
        "colab": {
          "base_uri": "https://localhost:8080/",
          "height": 330
        },
        "outputId": "0ac99207-c711-432f-92af-b6b5441ce9d8"
      },
      "cell_type": "code",
      "source": [
        "sns.boxplot(df['residual.sugar'])"
      ],
      "execution_count": 42,
      "outputs": [
        {
          "output_type": "stream",
          "text": [
            "/usr/local/lib/python3.6/dist-packages/seaborn/categorical.py:454: FutureWarning: remove_na is deprecated and is a private function. Do not use.\n",
            "  box_data = remove_na(group_data)\n"
          ],
          "name": "stderr"
        },
        {
          "output_type": "execute_result",
          "data": {
            "text/plain": [
              "<matplotlib.axes._subplots.AxesSubplot at 0x7fa535ff5cc0>"
            ]
          },
          "metadata": {
            "tags": []
          },
          "execution_count": 42
        },
        {
          "output_type": "display_data",
          "data": {
            "image/png": "[encoded data removed]",
            "text/plain": [
              "<matplotlib.figure.Figure at 0x7fa536543240>"
            ]
          },
          "metadata": {
            "tags": []
          }
        }
      ]
    },
    {
      "metadata": {
        "id": "3Q7jvzPaq4_u",
        "colab_type": "text"
      },
      "cell_type": "markdown",
      "source": [
        ""
      ]
    },
    {
      "metadata": {
        "id": "bwQC_iBDpU6Z",
        "colab_type": "code",
        "colab": {
          "base_uri": "https://localhost:8080/",
          "height": 296
        },
        "outputId": "9edaeca9-679d-4bef-a729-43aba380c75d"
      },
      "cell_type": "code",
      "source": [
        "sns.distplot(df['residual.sugar'])"
      ],
      "execution_count": 41,
      "outputs": [
        {
          "output_type": "execute_result",
          "data": {
            "text/plain": [
              "<matplotlib.axes._subplots.AxesSubplot at 0x7fa5364f0710>"
            ]
          },
          "metadata": {
            "tags": []
          },
          "execution_count": 41
        },
        {
          "output_type": "display_data",
          "data": {
            "image/png": "[encoded data removed]",
            "text/plain": [
              "<matplotlib.figure.Figure at 0x7fa535fc5908>"
            ]
          },
          "metadata": {
            "tags": []
          }
        }
      ]
    },
    {
      "metadata": {
        "id": "lEpy0KvnpoYB",
        "colab_type": "code",
        "colab": {}
      },
      "cell_type": "code",
      "source": [
        ""
      ],
      "execution_count": 0,
      "outputs": []
    },
    {
      "metadata": {
        "id": "RzWw_qFkrKBJ",
        "colab_type": "text"
      },
      "cell_type": "markdown",
      "source": [
        "3. Bivariant  Analysis"
      ]
    },
    {
      "metadata": {
        "id": "Sj2QoAfsrQrd",
        "colab_type": "code",
        "colab": {
          "base_uri": "https://localhost:8080/",
          "height": 489
        },
        "outputId": "19dc1d44-2e9d-4552-a84a-5e7e8e1d20ed"
      },
      "cell_type": "code",
      "source": [
        "df.corr()"
      ],
      "execution_count": 43,
      "outputs": [
        {
          "output_type": "execute_result",
          "data": {
            "text/html": [
              "<div>\n",
              "<style scoped>\n",
              "    .dataframe tbody tr th:only-of-type {\n",
              "        vertical-align: middle;\n",
              "    }\n",
              "\n",
              "    .dataframe tbody tr th {\n",
              "        vertical-align: top;\n",
              "    }\n",
              "\n",
              "    .dataframe thead th {\n",
              "        text-align: right;\n",
              "    }\n",
              "</style>\n",
              "<table border=\"1\" class=\"dataframe\">\n",
              "  <thead>\n",
              "    <tr style=\"text-align: right;\">\n",
              "      <th></th>\n",
              "      <th>Unnamed: 0</th>\n",
              "      <th>fixed.acidity</th>\n",
              "      <th>volatile.acidity</th>\n",
              "      <th>citric.acid</th>\n",
              "      <th>residual.sugar</th>\n",
              "      <th>chlorides</th>\n",
              "      <th>free.sulfur.dioxide</th>\n",
              "      <th>total.sulfur.dioxide</th>\n",
              "      <th>density</th>\n",
              "      <th>pH</th>\n",
              "      <th>sulphates</th>\n",
              "      <th>alcohol</th>\n",
              "      <th>quality</th>\n",
              "    </tr>\n",
              "  </thead>\n",
              "  <tbody>\n",
              "    <tr>\n",
              "      <th>Unnamed: 0</th>\n",
              "      <td>1.000000</td>\n",
              "      <td>-0.255814</td>\n",
              "      <td>0.002858</td>\n",
              "      <td>-0.149900</td>\n",
              "      <td>0.006624</td>\n",
              "      <td>-0.045645</td>\n",
              "      <td>-0.011929</td>\n",
              "      <td>-0.161979</td>\n",
              "      <td>-0.185976</td>\n",
              "      <td>-0.115774</td>\n",
              "      <td>0.009808</td>\n",
              "      <td>0.213656</td>\n",
              "      <td>0.035763</td>\n",
              "    </tr>\n",
              "    <tr>\n",
              "      <th>fixed.acidity</th>\n",
              "      <td>-0.255814</td>\n",
              "      <td>1.000000</td>\n",
              "      <td>-0.022697</td>\n",
              "      <td>0.289181</td>\n",
              "      <td>0.089021</td>\n",
              "      <td>0.023086</td>\n",
              "      <td>-0.049396</td>\n",
              "      <td>0.091070</td>\n",
              "      <td>0.265331</td>\n",
              "      <td>-0.425858</td>\n",
              "      <td>-0.017143</td>\n",
              "      <td>-0.120881</td>\n",
              "      <td>-0.113663</td>\n",
              "    </tr>\n",
              "    <tr>\n",
              "      <th>volatile.acidity</th>\n",
              "      <td>0.002858</td>\n",
              "      <td>-0.022697</td>\n",
              "      <td>1.000000</td>\n",
              "      <td>-0.149472</td>\n",
              "      <td>0.064286</td>\n",
              "      <td>0.070512</td>\n",
              "      <td>-0.097012</td>\n",
              "      <td>0.089261</td>\n",
              "      <td>0.027114</td>\n",
              "      <td>-0.031915</td>\n",
              "      <td>-0.035728</td>\n",
              "      <td>0.067718</td>\n",
              "      <td>-0.194723</td>\n",
              "    </tr>\n",
              "    <tr>\n",
              "      <th>citric.acid</th>\n",
              "      <td>-0.149900</td>\n",
              "      <td>0.289181</td>\n",
              "      <td>-0.149472</td>\n",
              "      <td>1.000000</td>\n",
              "      <td>0.094212</td>\n",
              "      <td>0.114364</td>\n",
              "      <td>0.094077</td>\n",
              "      <td>0.121131</td>\n",
              "      <td>0.149503</td>\n",
              "      <td>-0.163748</td>\n",
              "      <td>0.062331</td>\n",
              "      <td>-0.075729</td>\n",
              "      <td>-0.009209</td>\n",
              "    </tr>\n",
              "    <tr>\n",
              "      <th>residual.sugar</th>\n",
              "      <td>0.006624</td>\n",
              "      <td>0.089021</td>\n",
              "      <td>0.064286</td>\n",
              "      <td>0.094212</td>\n",
              "      <td>1.000000</td>\n",
              "      <td>0.088685</td>\n",
              "      <td>0.299098</td>\n",
              "      <td>0.401439</td>\n",
              "      <td>0.838966</td>\n",
              "      <td>-0.194133</td>\n",
              "      <td>-0.026664</td>\n",
              "      <td>-0.450631</td>\n",
              "      <td>-0.097577</td>\n",
              "    </tr>\n",
              "    <tr>\n",
              "      <th>chlorides</th>\n",
              "      <td>-0.045645</td>\n",
              "      <td>0.023086</td>\n",
              "      <td>0.070512</td>\n",
              "      <td>0.114364</td>\n",
              "      <td>0.088685</td>\n",
              "      <td>1.000000</td>\n",
              "      <td>0.101392</td>\n",
              "      <td>0.198910</td>\n",
              "      <td>0.257211</td>\n",
              "      <td>-0.090439</td>\n",
              "      <td>0.016763</td>\n",
              "      <td>-0.360189</td>\n",
              "      <td>-0.209934</td>\n",
              "    </tr>\n",
              "    <tr>\n",
              "      <th>free.sulfur.dioxide</th>\n",
              "      <td>-0.011929</td>\n",
              "      <td>-0.049396</td>\n",
              "      <td>-0.097012</td>\n",
              "      <td>0.094077</td>\n",
              "      <td>0.299098</td>\n",
              "      <td>0.101392</td>\n",
              "      <td>1.000000</td>\n",
              "      <td>0.615501</td>\n",
              "      <td>0.294210</td>\n",
              "      <td>-0.000618</td>\n",
              "      <td>0.059217</td>\n",
              "      <td>-0.250104</td>\n",
              "      <td>0.008158</td>\n",
              "    </tr>\n",
              "    <tr>\n",
              "      <th>total.sulfur.dioxide</th>\n",
              "      <td>-0.161979</td>\n",
              "      <td>0.091070</td>\n",
              "      <td>0.089261</td>\n",
              "      <td>0.121131</td>\n",
              "      <td>0.401439</td>\n",
              "      <td>0.198910</td>\n",
              "      <td>0.615501</td>\n",
              "      <td>1.000000</td>\n",
              "      <td>0.529881</td>\n",
              "      <td>0.002321</td>\n",
              "      <td>0.134562</td>\n",
              "      <td>-0.448892</td>\n",
              "      <td>-0.174737</td>\n",
              "    </tr>\n",
              "    <tr>\n",
              "      <th>density</th>\n",
              "      <td>-0.185976</td>\n",
              "      <td>0.265331</td>\n",
              "      <td>0.027114</td>\n",
              "      <td>0.149503</td>\n",
              "      <td>0.838966</td>\n",
              "      <td>0.257211</td>\n",
              "      <td>0.294210</td>\n",
              "      <td>0.529881</td>\n",
              "      <td>1.000000</td>\n",
              "      <td>-0.093591</td>\n",
              "      <td>0.074493</td>\n",
              "      <td>-0.780138</td>\n",
              "      <td>-0.307123</td>\n",
              "    </tr>\n",
              "    <tr>\n",
              "      <th>pH</th>\n",
              "      <td>-0.115774</td>\n",
              "      <td>-0.425858</td>\n",
              "      <td>-0.031915</td>\n",
              "      <td>-0.163748</td>\n",
              "      <td>-0.194133</td>\n",
              "      <td>-0.090439</td>\n",
              "      <td>-0.000618</td>\n",
              "      <td>0.002321</td>\n",
              "      <td>-0.093591</td>\n",
              "      <td>1.000000</td>\n",
              "      <td>0.155951</td>\n",
              "      <td>0.121432</td>\n",
              "      <td>0.099427</td>\n",
              "    </tr>\n",
              "    <tr>\n",
              "      <th>sulphates</th>\n",
              "      <td>0.009808</td>\n",
              "      <td>-0.017143</td>\n",
              "      <td>-0.035728</td>\n",
              "      <td>0.062331</td>\n",
              "      <td>-0.026664</td>\n",
              "      <td>0.016763</td>\n",
              "      <td>0.059217</td>\n",
              "      <td>0.134562</td>\n",
              "      <td>0.074493</td>\n",
              "      <td>0.155951</td>\n",
              "      <td>1.000000</td>\n",
              "      <td>-0.017433</td>\n",
              "      <td>0.053678</td>\n",
              "    </tr>\n",
              "    <tr>\n",
              "      <th>alcohol</th>\n",
              "      <td>0.213656</td>\n",
              "      <td>-0.120881</td>\n",
              "      <td>0.067718</td>\n",
              "      <td>-0.075729</td>\n",
              "      <td>-0.450631</td>\n",
              "      <td>-0.360189</td>\n",
              "      <td>-0.250104</td>\n",
              "      <td>-0.448892</td>\n",
              "      <td>-0.780138</td>\n",
              "      <td>0.121432</td>\n",
              "      <td>-0.017433</td>\n",
              "      <td>1.000000</td>\n",
              "      <td>0.435575</td>\n",
              "    </tr>\n",
              "    <tr>\n",
              "      <th>quality</th>\n",
              "      <td>0.035763</td>\n",
              "      <td>-0.113663</td>\n",
              "      <td>-0.194723</td>\n",
              "      <td>-0.009209</td>\n",
              "      <td>-0.097577</td>\n",
              "      <td>-0.209934</td>\n",
              "      <td>0.008158</td>\n",
              "      <td>-0.174737</td>\n",
              "      <td>-0.307123</td>\n",
              "      <td>0.099427</td>\n",
              "      <td>0.053678</td>\n",
              "      <td>0.435575</td>\n",
              "      <td>1.000000</td>\n",
              "    </tr>\n",
              "  </tbody>\n",
              "</table>\n",
              "</div>"
            ],
            "text/plain": [
              "                      Unnamed: 0  fixed.acidity  volatile.acidity  \\\n",
              "Unnamed: 0              1.000000      -0.255814          0.002858   \n",
              "fixed.acidity          -0.255814       1.000000         -0.022697   \n",
              "volatile.acidity        0.002858      -0.022697          1.000000   \n",
              "citric.acid            -0.149900       0.289181         -0.149472   \n",
              "residual.sugar          0.006624       0.089021          0.064286   \n",
              "chlorides              -0.045645       0.023086          0.070512   \n",
              "free.sulfur.dioxide    -0.011929      -0.049396         -0.097012   \n",
              "total.sulfur.dioxide   -0.161979       0.091070          0.089261   \n",
              "density                -0.185976       0.265331          0.027114   \n",
              "pH                     -0.115774      -0.425858         -0.031915   \n",
              "sulphates               0.009808      -0.017143         -0.035728   \n",
              "alcohol                 0.213656      -0.120881          0.067718   \n",
              "quality                 0.035763      -0.113663         -0.194723   \n",
              "\n",
              "                      citric.acid  residual.sugar  chlorides  \\\n",
              "Unnamed: 0              -0.149900        0.006624  -0.045645   \n",
              "fixed.acidity            0.289181        0.089021   0.023086   \n",
              "volatile.acidity        -0.149472        0.064286   0.070512   \n",
              "citric.acid              1.000000        0.094212   0.114364   \n",
              "residual.sugar           0.094212        1.000000   0.088685   \n",
              "chlorides                0.114364        0.088685   1.000000   \n",
              "free.sulfur.dioxide      0.094077        0.299098   0.101392   \n",
              "total.sulfur.dioxide     0.121131        0.401439   0.198910   \n",
              "density                  0.149503        0.838966   0.257211   \n",
              "pH                      -0.163748       -0.194133  -0.090439   \n",
              "sulphates                0.062331       -0.026664   0.016763   \n",
              "alcohol                 -0.075729       -0.450631  -0.360189   \n",
              "quality                 -0.009209       -0.097577  -0.209934   \n",
              "\n",
              "                      free.sulfur.dioxide  total.sulfur.dioxide   density  \\\n",
              "Unnamed: 0                      -0.011929             -0.161979 -0.185976   \n",
              "fixed.acidity                   -0.049396              0.091070  0.265331   \n",
              "volatile.acidity                -0.097012              0.089261  0.027114   \n",
              "citric.acid                      0.094077              0.121131  0.149503   \n",
              "residual.sugar                   0.299098              0.401439  0.838966   \n",
              "chlorides                        0.101392              0.198910  0.257211   \n",
              "free.sulfur.dioxide              1.000000              0.615501  0.294210   \n",
              "total.sulfur.dioxide             0.615501              1.000000  0.529881   \n",
              "density                          0.294210              0.529881  1.000000   \n",
              "pH                              -0.000618              0.002321 -0.093591   \n",
              "sulphates                        0.059217              0.134562  0.074493   \n",
              "alcohol                         -0.250104             -0.448892 -0.780138   \n",
              "quality                          0.008158             -0.174737 -0.307123   \n",
              "\n",
              "                            pH  sulphates   alcohol   quality  \n",
              "Unnamed: 0           -0.115774   0.009808  0.213656  0.035763  \n",
              "fixed.acidity        -0.425858  -0.017143 -0.120881 -0.113663  \n",
              "volatile.acidity     -0.031915  -0.035728  0.067718 -0.194723  \n",
              "citric.acid          -0.163748   0.062331 -0.075729 -0.009209  \n",
              "residual.sugar       -0.194133  -0.026664 -0.450631 -0.097577  \n",
              "chlorides            -0.090439   0.016763 -0.360189 -0.209934  \n",
              "free.sulfur.dioxide  -0.000618   0.059217 -0.250104  0.008158  \n",
              "total.sulfur.dioxide  0.002321   0.134562 -0.448892 -0.174737  \n",
              "density              -0.093591   0.074493 -0.780138 -0.307123  \n",
              "pH                    1.000000   0.155951  0.121432  0.099427  \n",
              "sulphates             0.155951   1.000000 -0.017433  0.053678  \n",
              "alcohol               0.121432  -0.017433  1.000000  0.435575  \n",
              "quality               0.099427   0.053678  0.435575  1.000000  "
            ]
          },
          "metadata": {
            "tags": []
          },
          "execution_count": 43
        }
      ]
    },
    {
      "metadata": {
        "id": "Fm7ubS4CrH-d",
        "colab_type": "text"
      },
      "cell_type": "markdown",
      "source": [
        ""
      ]
    },
    {
      "metadata": {
        "id": "SkdFw0aZrhdI",
        "colab_type": "code",
        "colab": {
          "base_uri": "https://localhost:8080/",
          "height": 353
        },
        "outputId": "73454e7a-f024-41ab-cec6-149c3c682f65"
      },
      "cell_type": "code",
      "source": [
        "sns.heatmap(df.corr())"
      ],
      "execution_count": 44,
      "outputs": [
        {
          "output_type": "execute_result",
          "data": {
            "text/plain": [
              "<matplotlib.axes._subplots.AxesSubplot at 0x7fa535f783c8>"
            ]
          },
          "metadata": {
            "tags": []
          },
          "execution_count": 44
        },
        {
          "output_type": "display_data",
          "data": {
            "image/png": "[encoded data removed]",
            "text/plain": [
              "<matplotlib.figure.Figure at 0x7fa535f6d6d8>"
            ]
          },
          "metadata": {
            "tags": []
          }
        }
      ]
    },
    {
      "metadata": {
        "id": "XvVkFmvhrnqE",
        "colab_type": "code",
        "colab": {
          "base_uri": "https://localhost:8080/",
          "height": 296
        },
        "outputId": "910b8bad-bb7d-4b4c-d513-ed5105909e41"
      },
      "cell_type": "code",
      "source": [
        "sns.regplot(x='quality',y='alcohol',data=df)"
      ],
      "execution_count": 46,
      "outputs": [
        {
          "output_type": "execute_result",
          "data": {
            "text/plain": [
              "<matplotlib.axes._subplots.AxesSubplot at 0x7fa535f292b0>"
            ]
          },
          "metadata": {
            "tags": []
          },
          "execution_count": 46
        },
        {
          "output_type": "display_data",
          "data": {
            "image/png": "[encoded data removed]",
            "text/plain": [
              "<matplotlib.figure.Figure at 0x7fa535ece2b0>"
            ]
          },
          "metadata": {
            "tags": []
          }
        }
      ]
    },
    {
      "metadata": {
        "id": "oiMFZpmAsL7p",
        "colab_type": "code",
        "colab": {
          "base_uri": "https://localhost:8080/",
          "height": 296
        },
        "outputId": "766e14c9-109e-4987-e2bb-bff839d4286b"
      },
      "cell_type": "code",
      "source": [
        "sns.regplot(x='quality',y='alcohol',data=df,x_jitter=0.2)"
      ],
      "execution_count": 47,
      "outputs": [
        {
          "output_type": "execute_result",
          "data": {
            "text/plain": [
              "<matplotlib.axes._subplots.AxesSubplot at 0x7fa535e8f588>"
            ]
          },
          "metadata": {
            "tags": []
          },
          "execution_count": 47
        },
        {
          "output_type": "display_data",
          "data": {
            "image/png": "[encoded data removed]",
            "text/plain": [
              "<matplotlib.figure.Figure at 0x7fa53624afd0>"
            ]
          },
          "metadata": {
            "tags": []
          }
        }
      ]
    },
    {
      "metadata": {
        "id": "aMZ63VACtTpm",
        "colab_type": "code",
        "colab": {
          "base_uri": "https://localhost:8080/",
          "height": 296
        },
        "outputId": "de833aad-563b-4928-b702-0af8afb53bf5"
      },
      "cell_type": "code",
      "source": [
        "sns.regplot(x='quality',y='alcohol',data=df,x_jitter=0.2,scatter_kws={'alpha':0.1})"
      ],
      "execution_count": 56,
      "outputs": [
        {
          "output_type": "execute_result",
          "data": {
            "text/plain": [
              "<matplotlib.axes._subplots.AxesSubplot at 0x7fa535db22b0>"
            ]
          },
          "metadata": {
            "tags": []
          },
          "execution_count": 56
        },
        {
          "output_type": "display_data",
          "data": {
            "image/png": "[encoded data removed]",
            "text/plain": [
              "<matplotlib.figure.Figure at 0x7fa535e062e8>"
            ]
          },
          "metadata": {
            "tags": []
          }
        }
      ]
    },
    {
      "metadata": {
        "id": "fACTGHtnuQz2",
        "colab_type": "code",
        "colab": {
          "base_uri": "https://localhost:8080/",
          "height": 668
        },
        "outputId": "2f7a6505-5eee-4fdb-a2a3-4f2980e218d1"
      },
      "cell_type": "code",
      "source": [
        "from ggplot import *\n",
        "ggplot(aes(x='quality',y='alcohol'),data=df)+geom_boxplot()"
      ],
      "execution_count": 60,
      "outputs": [
        {
          "output_type": "stream",
          "text": [
            "/usr/local/lib/python3.6/dist-packages/ggplot/utils.py:81: FutureWarning: pandas.tslib is deprecated and will be removed in a future version.\n",
            "You can access Timestamp as pandas.Timestamp\n",
            "  pd.tslib.Timestamp,\n",
            "/usr/local/lib/python3.6/dist-packages/ggplot/stats/smoothers.py:4: FutureWarning: The pandas.lib module is deprecated and will be removed in a future version. These are private functions and can be accessed from pandas._libs.lib instead\n",
            "  from pandas.lib import Timestamp\n",
            "/usr/local/lib/python3.6/dist-packages/statsmodels/compat/pandas.py:56: FutureWarning: The pandas.core.datetools module is deprecated and will be removed in a future version. Please use the pandas.tseries module instead.\n",
            "  from pandas.core import datetools\n"
          ],
          "name": "stderr"
        },
        {
          "output_type": "display_data",
          "data": {
            "image/png": "[encoded data removed]",
            "text/plain": [
              "<matplotlib.figure.Figure at 0x7fa53324aa20>"
            ]
          },
          "metadata": {
            "tags": []
          }
        },
        {
          "output_type": "execute_result",
          "data": {
            "text/plain": [
              "<ggplot: (-9223363265133350091)>"
            ]
          },
          "metadata": {
            "tags": []
          },
          "execution_count": 60
        }
      ]
    },
    {
      "metadata": {
        "id": "MGOBvLPusqpJ",
        "colab_type": "code",
        "colab": {
          "base_uri": "https://localhost:8080/",
          "height": 343
        },
        "outputId": "2deb0f61-a6f5-4d5f-e0e8-bc660c5f10c8"
      },
      "cell_type": "code",
      "source": [
        "!pip install ggplot"
      ],
      "execution_count": 48,
      "outputs": [
        {
          "output_type": "stream",
          "text": [
            "Collecting ggplot\n",
            "\u001b[?25l  Downloading https://files.pythonhosted.org/packages/48/04/5c88cc51c6713583f2dc78a5296adb9741505348c323d5875bc976143db2/ggplot-0.11.5-py2.py3-none-any.whl (2.2MB)\n",
            "\u001b[K    100% |████████████████████████████████| 2.2MB 5.2MB/s \n",
            "\u001b[?25hRequirement already satisfied: pandas in /usr/local/lib/python3.6/dist-packages (from ggplot) (0.22.0)\n",
            "Collecting brewer2mpl (from ggplot)\n",
            "  Downloading https://files.pythonhosted.org/packages/84/57/00c45a199719e617db0875181134fcb3aeef701deae346547ac722eaaf5e/brewer2mpl-1.4.1-py2.py3-none-any.whl\n",
            "Requirement already satisfied: cycler in /usr/local/lib/python3.6/dist-packages (from ggplot) (0.10.0)\n",
            "Requirement already satisfied: matplotlib in /usr/local/lib/python3.6/dist-packages (from ggplot) (2.1.2)\n",
            "Requirement already satisfied: statsmodels in /usr/local/lib/python3.6/dist-packages (from ggplot) (0.8.0)\n",
            "Requirement already satisfied: six in /usr/local/lib/python3.6/dist-packages (from ggplot) (1.11.0)\n",
            "Requirement already satisfied: scipy in /usr/local/lib/python3.6/dist-packages (from ggplot) (0.19.1)\n",
            "Requirement already satisfied: numpy in /usr/local/lib/python3.6/dist-packages (from ggplot) (1.14.3)\n",
            "Requirement already satisfied: patsy>=0.4 in /usr/local/lib/python3.6/dist-packages (from ggplot) (0.5.0)\n",
            "Requirement already satisfied: python-dateutil>=2 in /usr/local/lib/python3.6/dist-packages (from pandas->ggplot) (2.5.3)\n",
            "Requirement already satisfied: pytz>=2011k in /usr/local/lib/python3.6/dist-packages (from pandas->ggplot) (2018.4)\n",
            "Requirement already satisfied: pyparsing!=2.0.4,!=2.1.2,!=2.1.6,>=2.0.1 in /usr/local/lib/python3.6/dist-packages (from matplotlib->ggplot) (2.2.0)\n",
            "Installing collected packages: brewer2mpl, ggplot\n",
            "Successfully installed brewer2mpl-1.4.1 ggplot-0.11.5\n"
          ],
          "name": "stdout"
        }
      ]
    },
    {
      "metadata": {
        "id": "QNVIRZpTszat",
        "colab_type": "code",
        "colab": {
          "base_uri": "https://localhost:8080/",
          "height": 330
        },
        "outputId": "6da91ab4-1e48-4813-cb96-f46f18ebdbae"
      },
      "cell_type": "code",
      "source": [
        "sns.boxplot(x='quality',y='alcohol',data=df)"
      ],
      "execution_count": 61,
      "outputs": [
        {
          "output_type": "stream",
          "text": [
            "/usr/local/lib/python3.6/dist-packages/seaborn/categorical.py:454: FutureWarning: remove_na is deprecated and is a private function. Do not use.\n",
            "  box_data = remove_na(group_data)\n"
          ],
          "name": "stderr"
        },
        {
          "output_type": "execute_result",
          "data": {
            "text/plain": [
              "<matplotlib.axes._subplots.AxesSubplot at 0x7fa533131eb8>"
            ]
          },
          "metadata": {
            "tags": []
          },
          "execution_count": 61
        },
        {
          "output_type": "display_data",
          "data": {
            "image/png": "[encoded data removed]",
            "text/plain": [
              "<matplotlib.figure.Figure at 0x7fa5331b9080>"
            ]
          },
          "metadata": {
            "tags": []
          }
        }
      ]
    },
    {
      "metadata": {
        "id": "5WrxV_dMwTwC",
        "colab_type": "code",
        "colab": {
          "base_uri": "https://localhost:8080/",
          "height": 296
        },
        "outputId": "ff3d60f8-69e5-46c3-df9a-4ca38628050d"
      },
      "cell_type": "code",
      "source": [
        "sns.regplot(x='fixed.acidity',y='density',data=df,x_jitter=0.4,scatter_kws={'alpha':0.1})"
      ],
      "execution_count": 64,
      "outputs": [
        {
          "output_type": "execute_result",
          "data": {
            "text/plain": [
              "<matplotlib.axes._subplots.AxesSubplot at 0x7fa5330008d0>"
            ]
          },
          "metadata": {
            "tags": []
          },
          "execution_count": 64
        },
        {
          "output_type": "display_data",
          "data": {
            "image/png": "[encoded data removed]",
            "text/plain": [
              "<matplotlib.figure.Figure at 0x7fa53318d208>"
            ]
          },
          "metadata": {
            "tags": []
          }
        }
      ]
    },
    {
      "metadata": {
        "id": "LKtDCyAaw0OQ",
        "colab_type": "code",
        "colab": {
          "base_uri": "https://localhost:8080/",
          "height": 296
        },
        "outputId": "6523e6d0-b9cd-42a2-e223-706835f9f783"
      },
      "cell_type": "code",
      "source": [
        "sns.regplot(x='fixed.acidity',y='pH',data=df,x_jitter=0.4,scatter_kws={'alpha':0.1})"
      ],
      "execution_count": 65,
      "outputs": [
        {
          "output_type": "execute_result",
          "data": {
            "text/plain": [
              "<matplotlib.axes._subplots.AxesSubplot at 0x7fa532f24c18>"
            ]
          },
          "metadata": {
            "tags": []
          },
          "execution_count": 65
        },
        {
          "output_type": "display_data",
          "data": {
            "image/png": "[encoded data removed]",
            "text/plain": [
              "<matplotlib.figure.Figure at 0x7fa5330ceba8>"
            ]
          },
          "metadata": {
            "tags": []
          }
        }
      ]
    },
    {
      "metadata": {
        "id": "0KyXnrsexdPm",
        "colab_type": "code",
        "colab": {
          "base_uri": "https://localhost:8080/",
          "height": 282
        },
        "outputId": "9c73c52c-a1ec-400b-b0c6-833185500277"
      },
      "cell_type": "code",
      "source": [
        "plt.scatter(x='density',y='alcohol',cmap='quality',data=df)"
      ],
      "execution_count": 69,
      "outputs": [
        {
          "output_type": "execute_result",
          "data": {
            "text/plain": [
              "<matplotlib.collections.PathCollection at 0x7fa532df2828>"
            ]
          },
          "metadata": {
            "tags": []
          },
          "execution_count": 69
        },
        {
          "output_type": "display_data",
          "data": {
            "image/png": "[encoded data removed]",
            "text/plain": [
              "<matplotlib.figure.Figure at 0x7fa532e75208>"
            ]
          },
          "metadata": {
            "tags": []
          }
        }
      ]
    },
    {
      "metadata": {
        "id": "EiqzIZnUyJuW",
        "colab_type": "code",
        "colab": {}
      },
      "cell_type": "code",
      "source": [
        ""
      ],
      "execution_count": 0,
      "outputs": []
    },
    {
      "metadata": {
        "id": "j4Q2OHogy6Rl",
        "colab_type": "code",
        "colab": {}
      },
      "cell_type": "code",
      "source": [
        ""
      ],
      "execution_count": 0,
      "outputs": []
    }
  ]
}